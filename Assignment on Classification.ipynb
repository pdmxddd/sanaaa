





<!DOCTYPE html>
<html lang="en" data-color-mode="auto" data-light-theme="light" data-dark-theme="dark"  data-a11y-animated-images="system">
  <head>
    <meta charset="utf-8">
  <link rel="dns-prefetch" href="https://github.githubassets.com">
  <link rel="dns-prefetch" href="https://avatars.githubusercontent.com">
  <link rel="dns-prefetch" href="https://github-cloud.s3.amazonaws.com">
  <link rel="dns-prefetch" href="https://user-images.githubusercontent.com/">
  <link rel="preconnect" href="https://github.githubassets.com" crossorigin>
  <link rel="preconnect" href="https://avatars.githubusercontent.com">

  


  <link crossorigin="anonymous" media="all" rel="stylesheet" href="https://github.githubassets.com/assets/light-8cafbcbd78f4.css" /><link crossorigin="anonymous" media="all" rel="stylesheet" href="https://github.githubassets.com/assets/dark-31dc14e38457.css" /><link data-color-theme="dark_dimmed" crossorigin="anonymous" media="all" rel="stylesheet" data-href="https://github.githubassets.com/assets/dark_dimmed-71414d661fe2.css" /><link data-color-theme="dark_high_contrast" crossorigin="anonymous" media="all" rel="stylesheet" data-href="https://github.githubassets.com/assets/dark_high_contrast-ba96c7f1d660.css" /><link data-color-theme="dark_colorblind" crossorigin="anonymous" media="all" rel="stylesheet" data-href="https://github.githubassets.com/assets/dark_colorblind-7471c22cdb6a.css" /><link data-color-theme="light_colorblind" crossorigin="anonymous" media="all" rel="stylesheet" data-href="https://github.githubassets.com/assets/light_colorblind-80180bed15ed.css" /><link data-color-theme="light_high_contrast" crossorigin="anonymous" media="all" rel="stylesheet" data-href="https://github.githubassets.com/assets/light_high_contrast-e89b9cdecb75.css" /><link data-color-theme="light_tritanopia" crossorigin="anonymous" media="all" rel="stylesheet" data-href="https://github.githubassets.com/assets/light_tritanopia-77f15e9154df.css" /><link data-color-theme="dark_tritanopia" crossorigin="anonymous" media="all" rel="stylesheet" data-href="https://github.githubassets.com/assets/dark_tritanopia-f598f8dd18ae.css" />
  
    <link crossorigin="anonymous" media="all" rel="stylesheet" href="https://github.githubassets.com/assets/primer-primitives-fb1d51d1ef66.css" />
    <link crossorigin="anonymous" media="all" rel="stylesheet" href="https://github.githubassets.com/assets/primer-7ae9df2db290.css" />
    <link crossorigin="anonymous" media="all" rel="stylesheet" href="https://github.githubassets.com/assets/global-ad456268a33a.css" />
    <link crossorigin="anonymous" media="all" rel="stylesheet" href="https://github.githubassets.com/assets/github-d534e5531df6.css" />
  <link crossorigin="anonymous" media="all" rel="stylesheet" href="https://github.githubassets.com/assets/code-0bc9dc550c95.css" />

  

  <script type="application/json" id="client-env">{"locale":"en","featureFlags":["failbot_handle_non_errors","fix_react_title","geojson_azure_maps","image_metric_tracking","turbo_experiment_risky","use_scroll_restoration"]}</script>
<script crossorigin="anonymous" defer="defer" type="application/javascript" src="https://github.githubassets.com/assets/wp-runtime-ec5e6186f19c.js"></script>
<script crossorigin="anonymous" defer="defer" type="application/javascript" src="https://github.githubassets.com/assets/vendors-node_modules_dompurify_dist_purify_js-64d590970fa6.js"></script>
<script crossorigin="anonymous" defer="defer" type="application/javascript" src="https://github.githubassets.com/assets/vendors-node_modules_stacktrace-parser_dist_stack-trace-parser_esm_js-node_modules_github_bro-a4c183-ae93d3fba59c.js"></script>
<script crossorigin="anonymous" defer="defer" type="application/javascript" src="https://github.githubassets.com/assets/ui_packages_soft-nav_soft-nav_ts-db8b037dfa8f.js"></script>
<script crossorigin="anonymous" defer="defer" type="application/javascript" src="https://github.githubassets.com/assets/environment-c2140938ffde.js"></script>
<script crossorigin="anonymous" defer="defer" type="application/javascript" src="https://github.githubassets.com/assets/vendors-node_modules_github_selector-observer_dist_index_esm_js-2646a2c533e3.js"></script>
<script crossorigin="anonymous" defer="defer" type="application/javascript" src="https://github.githubassets.com/assets/vendors-node_modules_primer_behaviors_dist_esm_focus-zone_js-d55308df5023.js"></script>
<script crossorigin="anonymous" defer="defer" type="application/javascript" src="https://github.githubassets.com/assets/vendors-node_modules_github_relative-time-element_dist_index_js-99e288659d4f.js"></script>
<script crossorigin="anonymous" defer="defer" type="application/javascript" src="https://github.githubassets.com/assets/vendors-node_modules_fzy_js_index_js-node_modules_github_markdown-toolbar-element_dist_index_js-e3de700a4c9d.js"></script>
<script crossorigin="anonymous" defer="defer" type="application/javascript" src="https://github.githubassets.com/assets/vendors-node_modules_delegated-events_dist_index_js-node_modules_github_auto-complete-element-5b3870-9b38c0812424.js"></script>
<script crossorigin="anonymous" defer="defer" type="application/javascript" src="https://github.githubassets.com/assets/vendors-node_modules_github_file-attachment-element_dist_index_js-node_modules_github_text-ex-3415a8-7ecc10fb88d0.js"></script>
<script crossorigin="anonymous" defer="defer" type="application/javascript" src="https://github.githubassets.com/assets/vendors-node_modules_github_filter-input-element_dist_index_js-node_modules_github_remote-inp-8873b7-5771678648e0.js"></script>
<script crossorigin="anonymous" defer="defer" type="application/javascript" src="https://github.githubassets.com/assets/vendors-node_modules_primer_view-components_app_components_primer_primer_js-node_modules_gith-e7a1e2-7364fb705ad5.js"></script>
<script crossorigin="anonymous" defer="defer" type="application/javascript" src="https://github.githubassets.com/assets/github-elements-95e1429015db.js"></script>
<script crossorigin="anonymous" defer="defer" type="application/javascript" src="https://github.githubassets.com/assets/element-registry-817146790884.js"></script>
<script crossorigin="anonymous" defer="defer" type="application/javascript" src="https://github.githubassets.com/assets/vendors-node_modules_lit-html_lit-html_js-9d9fe1859ce5.js"></script>
<script crossorigin="anonymous" defer="defer" type="application/javascript" src="https://github.githubassets.com/assets/vendors-node_modules_github_hydro-analytics-client_dist_analytics-client_js-node_modules_gith-f3aee1-fd3c22610e40.js"></script>
<script crossorigin="anonymous" defer="defer" type="application/javascript" src="https://github.githubassets.com/assets/vendors-node_modules_morphdom_dist_morphdom-esm_js-b1fdd7158cf0.js"></script>
<script crossorigin="anonymous" defer="defer" type="application/javascript" src="https://github.githubassets.com/assets/vendors-node_modules_github_mini-throttle_dist_index_js-node_modules_github_alive-client_dist-bf5aa2-424aa982deef.js"></script>
<script crossorigin="anonymous" defer="defer" type="application/javascript" src="https://github.githubassets.com/assets/vendors-node_modules_github_turbo_dist_turbo_es2017-esm_js-1f4793023fcd.js"></script>
<script crossorigin="anonymous" defer="defer" type="application/javascript" src="https://github.githubassets.com/assets/vendors-node_modules_github_remote-form_dist_index_js-node_modules_scroll-anchoring_dist_scro-52dc4b-e1e33bfc0b7e.js"></script>
<script crossorigin="anonymous" defer="defer" type="application/javascript" src="https://github.githubassets.com/assets/vendors-node_modules_color-convert_index_js-35b3ae68c408.js"></script>
<script crossorigin="anonymous" defer="defer" type="application/javascript" src="https://github.githubassets.com/assets/vendors-node_modules_github_paste-markdown_dist_index_esm_js-node_modules_github_quote-select-7a8e2b-f036384374ea.js"></script>
<script crossorigin="anonymous" defer="defer" type="application/javascript" src="https://github.githubassets.com/assets/app_assets_modules_github_updatable-content_ts-126aeb5c22c9.js"></script>
<script crossorigin="anonymous" defer="defer" type="application/javascript" src="https://github.githubassets.com/assets/app_assets_modules_github_behaviors_task-list_ts-app_assets_modules_github_onfocus_ts-app_ass-079b43-c46fa3ecf26e.js"></script>
<script crossorigin="anonymous" defer="defer" type="application/javascript" src="https://github.githubassets.com/assets/app_assets_modules_github_sticky-scroll-into-view_ts-050ad6637d58.js"></script>
<script crossorigin="anonymous" defer="defer" type="application/javascript" src="https://github.githubassets.com/assets/app_assets_modules_github_behaviors_ajax-error_ts-app_assets_modules_github_behaviors_include-2e2258-b84eab1b8924.js"></script>
<script crossorigin="anonymous" defer="defer" type="application/javascript" src="https://github.githubassets.com/assets/app_assets_modules_github_behaviors_commenting_edit_ts-app_assets_modules_github_behaviors_ht-83c235-f22ac6b94445.js"></script>
<script crossorigin="anonymous" defer="defer" type="application/javascript" src="https://github.githubassets.com/assets/app_assets_modules_github_blob-anchor_ts-app_assets_modules_github_filter-sort_ts-app_assets_-c96432-3460172f1b1f.js"></script>
<script crossorigin="anonymous" defer="defer" type="application/javascript" src="https://github.githubassets.com/assets/behaviors-6cef81248a1d.js"></script>
<script crossorigin="anonymous" defer="defer" type="application/javascript" src="https://github.githubassets.com/assets/vendors-node_modules_delegated-events_dist_index_js-node_modules_github_catalyst_lib_index_js-06ff531-fe0b8ccc90a5.js"></script>
<script crossorigin="anonymous" defer="defer" type="application/javascript" src="https://github.githubassets.com/assets/notifications-global-f57687007bfc.js"></script>
<script crossorigin="anonymous" defer="defer" type="application/javascript" src="https://github.githubassets.com/assets/code-menu-edcbb51ff424.js"></script>
  
  <script crossorigin="anonymous" defer="defer" type="application/javascript" src="https://github.githubassets.com/assets/react-lib-210c4b5934c3.js"></script>
<script crossorigin="anonymous" defer="defer" type="application/javascript" src="https://github.githubassets.com/assets/vendors-node_modules_primer_octicons-react_dist_index_esm_js-node_modules_primer_react_lib-es-ca6dae-4ba8070e4105.js"></script>
<script crossorigin="anonymous" defer="defer" type="application/javascript" src="https://github.githubassets.com/assets/vendors-node_modules_primer_react_lib-esm_Button_index_js-node_modules_primer_react_lib-esm_L-41b0e5-0a98d095bd7f.js"></script>
<script crossorigin="anonymous" defer="defer" type="application/javascript" src="https://github.githubassets.com/assets/vendors-node_modules_primer_react_lib-esm_ActionList_index_js-8a7745ac8362.js"></script>
<script crossorigin="anonymous" defer="defer" type="application/javascript" src="https://github.githubassets.com/assets/vendors-node_modules_primer_react_lib-esm_Overlay_Overlay_js-node_modules_primer_react_lib-es-c25505-7256d09cc6de.js"></script>
<script crossorigin="anonymous" defer="defer" type="application/javascript" src="https://github.githubassets.com/assets/vendors-node_modules_primer_react_lib-esm_TextInput_TextInput_js-bda16ad5f5c0.js"></script>
<script crossorigin="anonymous" defer="defer" type="application/javascript" src="https://github.githubassets.com/assets/vendors-node_modules_primer_react_lib-esm_ActionMenu_js-fb2356b308cf.js"></script>
<script crossorigin="anonymous" defer="defer" type="application/javascript" src="https://github.githubassets.com/assets/vendors-node_modules_primer_behaviors_dist_esm_scroll-into-view_js-node_modules_primer_react_-04bb1b-f1078ffd63d6.js"></script>
<script crossorigin="anonymous" defer="defer" type="application/javascript" src="https://github.githubassets.com/assets/vendors-node_modules_primer_react_lib-esm_FormControl_FormControl_js-3ec7b5d8c7d7.js"></script>
<script crossorigin="anonymous" defer="defer" type="application/javascript" src="https://github.githubassets.com/assets/vendors-node_modules_primer_react_lib-esm_Heading_Heading_js-node_modules_primer_react_lib-es-20c766-3952b4d6d547.js"></script>
<script crossorigin="anonymous" defer="defer" type="application/javascript" src="https://github.githubassets.com/assets/vendors-node_modules_primer_react_lib-esm_SelectPanel_SelectPanel_js-node_modules_react-route-fa6f3c-91fa58130232.js"></script>
<script crossorigin="anonymous" defer="defer" type="application/javascript" src="https://github.githubassets.com/assets/vendors-node_modules_primer_react_lib-esm_Dialog_js-node_modules_primer_react_lib-esm_Flash_F-54f402-88c054c19f70.js"></script>
<script crossorigin="anonymous" defer="defer" type="application/javascript" src="https://github.githubassets.com/assets/vendors-node_modules_js-yaml_index_js-node_modules_leven_index_js-09eaf6f363f5.js"></script>
<script crossorigin="anonymous" defer="defer" type="application/javascript" src="https://github.githubassets.com/assets/vendors-node_modules_primer_react_lib-esm_TreeView_TreeView_js-2d5a3fb3b8ec.js"></script>
<script crossorigin="anonymous" defer="defer" type="application/javascript" src="https://github.githubassets.com/assets/vendors-node_modules_cronstrue_dist_cronstrue_js-25a1d4fa28bf.js"></script>
<script crossorigin="anonymous" defer="defer" type="application/javascript" src="https://github.githubassets.com/assets/vendors-node_modules_primer_react_lib-esm_Avatar_Avatar_js-node_modules_primer_react_lib-esm_-7ed375-571e68a65786.js"></script>
<script crossorigin="anonymous" defer="defer" type="application/javascript" src="https://github.githubassets.com/assets/vendors-node_modules_primer_react_lib-esm_NavList_NavList_js-node_modules_primer_react_lib-es-ff3f14-9a81ecfa3742.js"></script>
<script crossorigin="anonymous" defer="defer" type="application/javascript" src="https://github.githubassets.com/assets/vendors-node_modules_primer_react_lib-esm_AvatarStack_AvatarStack_js-node_modules_primer_reac-0b4173-d8ba3894d9e9.js"></script>
<script crossorigin="anonymous" defer="defer" type="application/javascript" src="https://github.githubassets.com/assets/vendors-node_modules_primer_react_lib-esm_CircleOcticon_CircleOcticon_js-node_modules_primer_-5f69e9-28a2c544b70d.js"></script>
<script crossorigin="anonymous" defer="defer" type="application/javascript" src="https://github.githubassets.com/assets/ui_packages_react-core_deferred-registry_ts-ui_packages_react-core_AppContextProvider_tsx-ui_-36d03f-d435763809b0.js"></script>
<script crossorigin="anonymous" defer="defer" type="application/javascript" src="https://github.githubassets.com/assets/ui_packages_ref-selector_RefSelector_tsx-ui_packages_safe-html_SafeHTML_tsx-ab7d3e5c842f.js"></script>
<script crossorigin="anonymous" defer="defer" type="application/javascript" src="https://github.githubassets.com/assets/app_assets_modules_github_editor_yaml-editors_workflow_workflow-rules_ts-ui_packages_trusted--45f807-b2a6e388da98.js"></script>
<script crossorigin="anonymous" defer="defer" type="application/javascript" src="https://github.githubassets.com/assets/ui_packages_analytics-provider_analytics-provider_ts-app_assets_modules_react-code-view_pages-ea7c12-685fd1887e61.js"></script>
<script crossorigin="anonymous" defer="defer" type="application/javascript" src="https://github.githubassets.com/assets/react-code-view-018ca6ce0d6a.js"></script>


  <title>Assignment-on-Classification/Assignment on Classification.ipynb at main · Roshni-M9296/Assignment-on-Classification · GitHub</title>



  <meta name="route-pattern" content="/:user_id/:repository/blob/*name(/*path)">

    
  <meta name="current-catalog-service-hash" content="82c569b93da5c18ed649ebd4c2c79437db4611a6a1373e805a3cb001c64130b7">


  <meta name="request-id" content="6A48:3CB458:6860D2:70CAD2:64BAC485" data-pjax-transient="true"/><meta name="html-safe-nonce" content="6971893486c3cab5b19119a3c0f746447ece591041e3c027ac279d01875368ae" data-pjax-transient="true"/><meta name="visitor-payload" content="eyJyZWZlcnJlciI6Imh0dHBzOi8vbWFpbC5nb29nbGUuY29tLyIsInJlcXVlc3RfaWQiOiI2QTQ4OjNDQjQ1ODo2ODYwRDI6NzBDQUQyOjY0QkFDNDg1IiwidmlzaXRvcl9pZCI6Ijc3NTQ4MzU1NzUxNDU3MDEyMDMiLCJyZWdpb25fZWRnZSI6ImNlbnRyYWxpbmRpYSIsInJlZ2lvbl9yZW5kZXIiOiJjZW50cmFsaW5kaWEifQ==" data-pjax-transient="true"/><meta name="visitor-hmac" content="8619a5dce3777a83f6dbcc16d30e8e9d6615cd8544d5f408733362386463f62a" data-pjax-transient="true"/>


    <meta name="hovercard-subject-tag" content="repository:668848867" data-turbo-transient>


  <meta name="github-keyboard-shortcuts" content="repository,source-code,file-tree" data-turbo-transient="true" />
  

  <meta name="selected-link" value="repo_source" data-turbo-transient>
  <link rel="assets" href="https://github.githubassets.com/">

    <meta name="google-site-verification" content="c1kuD-K2HIVF635lypcsWPoD4kilo5-jA_wBFyT4uMY">
  <meta name="google-site-verification" content="KT5gs8h0wvaagLKAVWq8bbeNwnZZK1r1XQysX3xurLU">
  <meta name="google-site-verification" content="ZzhVyEFwb7w3e0-uOTltm8Jsck2F5StVihD0exw2fsA">
  <meta name="google-site-verification" content="GXs5KoUUkNCoaAZn7wPN-t01Pywp9M3sEjnt_3_ZWPc">
  <meta name="google-site-verification" content="Apib7-x98H0j5cPqHWwSMm6dNU4GmODRoqxLiDzdx9I">

<meta name="octolytics-url" content="https://collector.github.com/github/collect" />

  <meta name="analytics-location" content="/&lt;user-name&gt;/&lt;repo-name&gt;/blob/show" data-turbo-transient="true" />

  




  

    <meta name="user-login" content="">

  

    <meta name="viewport" content="width=device-width">
    
      <meta name="description" content="Contribute to Roshni-M9296/Assignment-on-Classification development by creating an account on GitHub.">
      <link rel="search" type="application/opensearchdescription+xml" href="/opensearch.xml" title="GitHub">
    <link rel="fluid-icon" href="https://github.com/fluidicon.png" title="GitHub">
    <meta property="fb:app_id" content="1401488693436528">
    <meta name="apple-itunes-app" content="app-id=1477376905, app-argument=https://github.com/Roshni-M9296/Assignment-on-Classification/blob/main/Assignment%20on%20Classification.ipynb" />
      <meta name="twitter:image:src" content="https://opengraph.githubassets.com/ddc507183f87093a67399026d81242c787513142bedde830ab6347e68d99afa0/Roshni-M9296/Assignment-on-Classification" /><meta name="twitter:site" content="@github" /><meta name="twitter:card" content="summary_large_image" /><meta name="twitter:title" content="Assignment-on-Classification/Assignment on Classification.ipynb at main · Roshni-M9296/Assignment-on-Classification" /><meta name="twitter:description" content="Contribute to Roshni-M9296/Assignment-on-Classification development by creating an account on GitHub." />
      <meta property="og:image" content="https://opengraph.githubassets.com/ddc507183f87093a67399026d81242c787513142bedde830ab6347e68d99afa0/Roshni-M9296/Assignment-on-Classification" /><meta property="og:image:alt" content="Contribute to Roshni-M9296/Assignment-on-Classification development by creating an account on GitHub." /><meta property="og:image:width" content="1200" /><meta property="og:image:height" content="600" /><meta property="og:site_name" content="GitHub" /><meta property="og:type" content="object" /><meta property="og:title" content="Assignment-on-Classification/Assignment on Classification.ipynb at main · Roshni-M9296/Assignment-on-Classification" /><meta property="og:url" content="https://github.com/Roshni-M9296/Assignment-on-Classification/blob/main/Assignment%20on%20Classification.ipynb" /><meta property="og:description" content="Contribute to Roshni-M9296/Assignment-on-Classification development by creating an account on GitHub." />
      



        <meta name="hostname" content="github.com">



        <meta name="expected-hostname" content="github.com">

    <meta name="enabled-features" content="FAILBOT_HANDLE_NON_ERRORS,FIX_REACT_TITLE,GEOJSON_AZURE_MAPS,IMAGE_METRIC_TRACKING,TURBO_EXPERIMENT_RISKY,USE_SCROLL_RESTORATION">


  <meta http-equiv="x-pjax-version" content="4e764e89f2dd7bf774293e4912a79daddd004275caafff008818f77b1e4722b2" data-turbo-track="reload">
  <meta http-equiv="x-pjax-csp-version" content="d3902c74d83b7cc902d874cc2c861737295a49b0ba4e36eb0f764d362d1fd091" data-turbo-track="reload">
  <meta http-equiv="x-pjax-css-version" content="d1e00a76563e6ed28f5b2c6319dcf005b27223381f49fe8ea98356138a4a506e" data-turbo-track="reload">
  <meta http-equiv="x-pjax-js-version" content="f60a14cc523bfc9dd7b65fabb90555cb7a26b828020403d865e6441b73f19eb0" data-turbo-track="reload">

  <meta name="turbo-cache-control" content="no-preview" data-turbo-transient="">

      <meta name="turbo-cache-control" content="no-cache" data-turbo-transient>
    <meta data-hydrostats="publish">

  <meta name="go-import" content="github.com/Roshni-M9296/Assignment-on-Classification git https://github.com/Roshni-M9296/Assignment-on-Classification.git">

  <meta name="octolytics-dimension-user_id" content="127884447" /><meta name="octolytics-dimension-user_login" content="Roshni-M9296" /><meta name="octolytics-dimension-repository_id" content="668848867" /><meta name="octolytics-dimension-repository_nwo" content="Roshni-M9296/Assignment-on-Classification" /><meta name="octolytics-dimension-repository_public" content="true" /><meta name="octolytics-dimension-repository_is_fork" content="false" /><meta name="octolytics-dimension-repository_network_root_id" content="668848867" /><meta name="octolytics-dimension-repository_network_root_nwo" content="Roshni-M9296/Assignment-on-Classification" />



  <meta name="turbo-body-classes" content="logged-out env-production page-responsive">


  <meta name="browser-stats-url" content="https://api.github.com/_private/browser/stats">

  <meta name="browser-errors-url" content="https://api.github.com/_private/browser/errors">

  <meta name="browser-optimizely-client-errors-url" content="https://api.github.com/_private/browser/optimizely_client/errors">

  <link rel="mask-icon" href="https://github.githubassets.com/pinned-octocat.svg" color="#000000">
  <link rel="alternate icon" class="js-site-favicon" type="image/png" href="https://github.githubassets.com/favicons/favicon.png">
  <link rel="icon" class="js-site-favicon" type="image/svg+xml" href="https://github.githubassets.com/favicons/favicon.svg">

<meta name="theme-color" content="#1e2327">
<meta name="color-scheme" content="light dark" />


  <link rel="manifest" href="/manifest.json" crossOrigin="use-credentials">

  </head>

  <body class="logged-out env-production page-responsive" style="word-wrap: break-word;">
    <div data-turbo-body class="logged-out env-production page-responsive" style="word-wrap: break-word;">
      


    <div class="position-relative js-header-wrapper ">
      <a href="#start-of-content" class="px-2 py-4 color-bg-accent-emphasis color-fg-on-emphasis show-on-focus js-skip-to-content">Skip to content</a>
      <span data-view-component="true" class="progress-pjax-loader Progress position-fixed width-full">
    <span style="width: 0%;" data-view-component="true" class="Progress-item progress-pjax-loader-bar left-0 top-0 color-bg-accent-emphasis"></span>
</span>      
      


      

        

            

<script crossorigin="anonymous" defer="defer" type="application/javascript" src="https://github.githubassets.com/assets/vendors-node_modules_github_remote-form_dist_index_js-node_modules_github_memoize_dist_esm_in-687f35-d131f0b6de8e.js"></script>
<script crossorigin="anonymous" defer="defer" type="application/javascript" src="https://github.githubassets.com/assets/sessions-2638decb9ee5.js"></script>
<header class="Header-old header-logged-out js-details-container Details position-relative f4 py-3" role="banner" data-color-mode=light data-light-theme=light data-dark-theme=dark>
  <button type="button" class="Header-backdrop d-lg-none border-0 position-fixed top-0 left-0 width-full height-full js-details-target" aria-label="Toggle navigation">
    <span class="d-none">Toggle navigation</span>
  </button>

  <div class=" d-flex flex-column flex-lg-row flex-items-center p-responsive height-full position-relative z-1">
    <div class="d-flex flex-justify-between flex-items-center width-full width-lg-auto">
      <a class="mr-lg-3 color-fg-inherit flex-order-2" href="https://github.com/" aria-label="Homepage" data-ga-click="(Logged out) Header, go to homepage, icon:logo-wordmark">
        <svg height="32" aria-hidden="true" viewBox="0 0 16 16" version="1.1" width="32" data-view-component="true" class="octicon octicon-mark-github">
    <path d="M8 0c4.42 0 8 3.58 8 8a8.013 8.013 0 0 1-5.45 7.59c-.4.08-.55-.17-.55-.38 0-.27.01-1.13.01-2.2 0-.75-.25-1.23-.54-1.48 1.78-.2 3.65-.88 3.65-3.95 0-.88-.31-1.59-.82-2.15.08-.2.36-1.02-.08-2.12 0 0-.67-.22-2.2.82-.64-.18-1.32-.27-2-.27-.68 0-1.36.09-2 .27-1.53-1.03-2.2-.82-2.2-.82-.44 1.1-.16 1.92-.08 2.12-.51.56-.82 1.28-.82 2.15 0 3.06 1.86 3.75 3.64 3.95-.23.2-.44.55-.51 1.07-.46.21-1.61.55-2.33-.66-.15-.24-.6-.83-1.23-.82-.67.01-.27.38.01.53.34.19.73.9.82 1.13.16.45.68 1.31 2.69.94 0 .67.01 1.3.01 1.49 0 .21-.15.45-.55.38A7.995 7.995 0 0 1 0 8c0-4.42 3.58-8 8-8Z"></path>
</svg>
      </a>

        <div class="flex-1">
          <a href="/signup?ref_cta=Sign+up&amp;ref_loc=header+logged+out&amp;ref_page=%2F%3Cuser-name%3E%2F%3Crepo-name%3E%2Fblob%2Fshow&amp;source=header-repo"
            class="d-inline-block d-lg-none flex-order-1 f5 no-underline border color-border-default rounded-2 px-2 py-1 color-fg-inherit"
            data-hydro-click="{&quot;event_type&quot;:&quot;authentication.click&quot;,&quot;payload&quot;:{&quot;location_in_page&quot;:&quot;site header&quot;,&quot;repository_id&quot;:null,&quot;auth_type&quot;:&quot;SIGN_UP&quot;,&quot;originating_url&quot;:&quot;https://github.com/Roshni-M9296/Assignment-on-Classification/blob/main/Assignment%20on%20Classification.ipynb&quot;,&quot;user_id&quot;:null}}" data-hydro-click-hmac="69073b761f57260015b151ad29d6eddf45e6d38ed67af7cae05795dbd2f2266f"
          >
            Sign&nbsp;up
          </a>
        </div>

      <div class="flex-1 flex-order-2 text-right">
          <button aria-label="Toggle navigation" aria-expanded="false" type="button" data-view-component="true" class="js-details-target Button--link Button--medium Button d-lg-none color-fg-inherit p-1">    <span class="Button-content">
      <span class="Button-label"><div class="HeaderMenu-toggle-bar rounded my-1"></div>
            <div class="HeaderMenu-toggle-bar rounded my-1"></div>
            <div class="HeaderMenu-toggle-bar rounded my-1"></div></span>
    </span>
</button>  
      </div>
    </div>


    <div class="HeaderMenu--logged-out p-responsive height-fit position-lg-relative d-lg-flex flex-column flex-auto pt-7 pb-4 top-0">
      <div class="header-menu-wrapper d-flex flex-column flex-self-end flex-lg-row flex-justify-between flex-auto p-3 p-lg-0 rounded rounded-lg-0 mt-3 mt-lg-0">
          <nav class="mt-0 px-3 px-lg-0 mb-3 mb-lg-0" aria-label="Global">
            <ul class="d-lg-flex list-style-none">
                <li class="HeaderMenu-item position-relative flex-wrap flex-justify-between flex-items-center d-block d-lg-flex flex-lg-nowrap flex-lg-items-center js-details-container js-header-menu-item">
      <button type="button" class="HeaderMenu-link border-0 width-full width-lg-auto px-0 px-lg-2 py-3 py-lg-2 no-wrap d-flex flex-items-center flex-justify-between js-details-target" aria-expanded="false">
        Product
        <svg opacity="0.5" aria-hidden="true" height="16" viewBox="0 0 16 16" version="1.1" width="16" data-view-component="true" class="octicon octicon-chevron-down HeaderMenu-icon ml-1">
    <path d="M12.78 5.22a.749.749 0 0 1 0 1.06l-4.25 4.25a.749.749 0 0 1-1.06 0L3.22 6.28a.749.749 0 1 1 1.06-1.06L8 8.939l3.72-3.719a.749.749 0 0 1 1.06 0Z"></path>
</svg>
      </button>
      <div class="HeaderMenu-dropdown dropdown-menu rounded m-0 p-0 py-2 py-lg-4 position-relative position-lg-absolute left-0 left-lg-n3 d-lg-flex dropdown-menu-wide">
          <div class="px-lg-4 border-lg-right mb-4 mb-lg-0 pr-lg-7">
            <ul class="list-style-none f5" >
                <li>
  <a class="HeaderMenu-dropdown-link lh-condensed d-block no-underline position-relative py-2 Link--secondary d-flex flex-items-center pb-lg-3" data-analytics-event="{&quot;category&quot;:&quot;Header dropdown (logged out), Product&quot;,&quot;action&quot;:&quot;click to go to Actions&quot;,&quot;label&quot;:&quot;ref_cta:Actions;&quot;}" href="/features/actions">
      <svg aria-hidden="true" height="24" viewBox="0 0 24 24" version="1.1" width="24" data-view-component="true" class="octicon octicon-workflow color-fg-subtle mr-3">
    <path d="M1 3a2 2 0 0 1 2-2h6.5a2 2 0 0 1 2 2v6.5a2 2 0 0 1-2 2H7v4.063C7 16.355 7.644 17 8.438 17H12.5v-2.5a2 2 0 0 1 2-2H21a2 2 0 0 1 2 2V21a2 2 0 0 1-2 2h-6.5a2 2 0 0 1-2-2v-2.5H8.437A2.939 2.939 0 0 1 5.5 15.562V11.5H3a2 2 0 0 1-2-2Zm2-.5a.5.5 0 0 0-.5.5v6.5a.5.5 0 0 0 .5.5h6.5a.5.5 0 0 0 .5-.5V3a.5.5 0 0 0-.5-.5ZM14.5 14a.5.5 0 0 0-.5.5V21a.5.5 0 0 0 .5.5H21a.5.5 0 0 0 .5-.5v-6.5a.5.5 0 0 0-.5-.5Z"></path>
</svg>
      <div>
        <div class="color-fg-default h4">Actions</div>
        Automate any workflow
      </div>

    
</a></li>

                <li>
  <a class="HeaderMenu-dropdown-link lh-condensed d-block no-underline position-relative py-2 Link--secondary d-flex flex-items-center pb-lg-3" data-analytics-event="{&quot;category&quot;:&quot;Header dropdown (logged out), Product&quot;,&quot;action&quot;:&quot;click to go to Packages&quot;,&quot;label&quot;:&quot;ref_cta:Packages;&quot;}" href="/features/packages">
      <svg aria-hidden="true" height="24" viewBox="0 0 24 24" version="1.1" width="24" data-view-component="true" class="octicon octicon-package color-fg-subtle mr-3">
    <path d="M12.876.64V.639l8.25 4.763c.541.313.875.89.875 1.515v9.525a1.75 1.75 0 0 1-.875 1.516l-8.25 4.762a1.748 1.748 0 0 1-1.75 0l-8.25-4.763a1.75 1.75 0 0 1-.875-1.515V6.917c0-.625.334-1.202.875-1.515L11.126.64a1.748 1.748 0 0 1 1.75 0Zm-1 1.298L4.251 6.34l7.75 4.474 7.75-4.474-7.625-4.402a.248.248 0 0 0-.25 0Zm.875 19.123 7.625-4.402a.25.25 0 0 0 .125-.216V7.639l-7.75 4.474ZM3.501 7.64v8.803c0 .09.048.172.125.216l7.625 4.402v-8.947Z"></path>
</svg>
      <div>
        <div class="color-fg-default h4">Packages</div>
        Host and manage packages
      </div>

    
</a></li>

                <li>
  <a class="HeaderMenu-dropdown-link lh-condensed d-block no-underline position-relative py-2 Link--secondary d-flex flex-items-center pb-lg-3" data-analytics-event="{&quot;category&quot;:&quot;Header dropdown (logged out), Product&quot;,&quot;action&quot;:&quot;click to go to Security&quot;,&quot;label&quot;:&quot;ref_cta:Security;&quot;}" href="/features/security">
      <svg aria-hidden="true" height="24" viewBox="0 0 24 24" version="1.1" width="24" data-view-component="true" class="octicon octicon-shield-check color-fg-subtle mr-3">
    <path d="M16.53 9.78a.75.75 0 0 0-1.06-1.06L11 13.19l-1.97-1.97a.75.75 0 0 0-1.06 1.06l2.5 2.5a.75.75 0 0 0 1.06 0l5-5Z"></path><path d="m12.54.637 8.25 2.675A1.75 1.75 0 0 1 22 4.976V10c0 6.19-3.771 10.704-9.401 12.83a1.704 1.704 0 0 1-1.198 0C5.77 20.705 2 16.19 2 10V4.976c0-.758.489-1.43 1.21-1.664L11.46.637a1.748 1.748 0 0 1 1.08 0Zm-.617 1.426-8.25 2.676a.249.249 0 0 0-.173.237V10c0 5.46 3.28 9.483 8.43 11.426a.199.199 0 0 0 .14 0C17.22 19.483 20.5 15.461 20.5 10V4.976a.25.25 0 0 0-.173-.237l-8.25-2.676a.253.253 0 0 0-.154 0Z"></path>
</svg>
      <div>
        <div class="color-fg-default h4">Security</div>
        Find and fix vulnerabilities
      </div>

    
</a></li>

                <li>
  <a class="HeaderMenu-dropdown-link lh-condensed d-block no-underline position-relative py-2 Link--secondary d-flex flex-items-center pb-lg-3" data-analytics-event="{&quot;category&quot;:&quot;Header dropdown (logged out), Product&quot;,&quot;action&quot;:&quot;click to go to Codespaces&quot;,&quot;label&quot;:&quot;ref_cta:Codespaces;&quot;}" href="/features/codespaces">
      <svg aria-hidden="true" height="24" viewBox="0 0 24 24" version="1.1" width="24" data-view-component="true" class="octicon octicon-codespaces color-fg-subtle mr-3">
    <path d="M3.5 3.75C3.5 2.784 4.284 2 5.25 2h13.5c.966 0 1.75.784 1.75 1.75v7.5A1.75 1.75 0 0 1 18.75 13H5.25a1.75 1.75 0 0 1-1.75-1.75Zm-2 12c0-.966.784-1.75 1.75-1.75h17.5c.966 0 1.75.784 1.75 1.75v4a1.75 1.75 0 0 1-1.75 1.75H3.25a1.75 1.75 0 0 1-1.75-1.75ZM5.25 3.5a.25.25 0 0 0-.25.25v7.5c0 .138.112.25.25.25h13.5a.25.25 0 0 0 .25-.25v-7.5a.25.25 0 0 0-.25-.25Zm-2 12a.25.25 0 0 0-.25.25v4c0 .138.112.25.25.25h17.5a.25.25 0 0 0 .25-.25v-4a.25.25 0 0 0-.25-.25Z"></path><path d="M10 17.75a.75.75 0 0 1 .75-.75h6.5a.75.75 0 0 1 0 1.5h-6.5a.75.75 0 0 1-.75-.75Zm-4 0a.75.75 0 0 1 .75-.75h.5a.75.75 0 0 1 0 1.5h-.5a.75.75 0 0 1-.75-.75Z"></path>
</svg>
      <div>
        <div class="color-fg-default h4">Codespaces</div>
        Instant dev environments
      </div>

    
</a></li>

                <li>
  <a class="HeaderMenu-dropdown-link lh-condensed d-block no-underline position-relative py-2 Link--secondary d-flex flex-items-center pb-lg-3" data-analytics-event="{&quot;category&quot;:&quot;Header dropdown (logged out), Product&quot;,&quot;action&quot;:&quot;click to go to Copilot&quot;,&quot;label&quot;:&quot;ref_cta:Copilot;&quot;}" href="/features/copilot">
      <svg aria-hidden="true" height="24" viewBox="0 0 24 24" version="1.1" width="24" data-view-component="true" class="octicon octicon-copilot color-fg-subtle mr-3">
    <path d="M9.75 14a.75.75 0 0 1 .75.75v2.5a.75.75 0 0 1-1.5 0v-2.5a.75.75 0 0 1 .75-.75Zm4.5 0a.75.75 0 0 1 .75.75v2.5a.75.75 0 0 1-1.5 0v-2.5a.75.75 0 0 1 .75-.75Z"></path><path d="M12 2c2.214 0 4.248.657 5.747 1.756.136.099.268.204.397.312.584.235 1.077.546 1.474.952.85.869 1.132 2.037 1.132 3.368 0 .368-.014.733-.052 1.086l.633 1.478.043.022A4.75 4.75 0 0 1 24 15.222v1.028c0 .529-.309.987-.565 1.293-.28.336-.636.653-.966.918a13.84 13.84 0 0 1-1.299.911l-.024.015-.006.004-.039.025c-.223.135-.45.264-.68.386-.46.245-1.122.571-1.941.895C16.845 21.344 14.561 22 12 22c-2.561 0-4.845-.656-6.479-1.303a19.046 19.046 0 0 1-1.942-.894 14.081 14.081 0 0 1-.535-.3l-.144-.087-.04-.025-.006-.004-.024-.015a13.16 13.16 0 0 1-1.299-.911 6.913 6.913 0 0 1-.967-.918C.31 17.237 0 16.779 0 16.25v-1.028a4.75 4.75 0 0 1 2.626-4.248l.043-.022.633-1.478a10.195 10.195 0 0 1-.052-1.086c0-1.331.282-2.498 1.132-3.368.397-.406.89-.717 1.474-.952.129-.108.261-.213.397-.312C7.752 2.657 9.786 2 12 2Zm-8 9.654v6.669a17.59 17.59 0 0 0 2.073.98C7.595 19.906 9.686 20.5 12 20.5c2.314 0 4.405-.594 5.927-1.197a17.59 17.59 0 0 0 2.073-.98v-6.669l-.038-.09c-.046.061-.095.12-.145.177-.793.9-2.057 1.259-3.782 1.259-1.59 0-2.738-.544-3.508-1.492a4.323 4.323 0 0 1-.355-.508h-.344a4.323 4.323 0 0 1-.355.508C10.704 12.456 9.555 13 7.965 13c-1.725 0-2.989-.359-3.782-1.259a3.026 3.026 0 0 1-.145-.177Zm6.309-1.092c.445-.547.708-1.334.851-2.301.057-.357.087-.718.09-1.079v-.031c-.001-.762-.166-1.26-.43-1.568l-.008-.01c-.341-.391-1.046-.689-2.533-.529-1.505.163-2.347.537-2.824 1.024-.462.473-.705 1.18-.705 2.32 0 .605.044 1.087.135 1.472.092.384.231.672.423.89.365.413 1.084.75 2.657.75.91 0 1.527-.223 1.964-.564.14-.11.268-.235.38-.374Zm2.504-2.497c.136 1.057.403 1.913.878 2.497.442.545 1.134.938 2.344.938 1.573 0 2.292-.337 2.657-.751.384-.435.558-1.151.558-2.361 0-1.14-.243-1.847-.705-2.319-.477-.488-1.318-.862-2.824-1.025-1.487-.161-2.192.139-2.533.529-.268.308-.437.808-.438 1.578v.02c.002.299.023.598.063.894Z"></path>
</svg>
      <div>
        <div class="color-fg-default h4">Copilot</div>
        Write better code with AI
      </div>

    
</a></li>

                <li>
  <a class="HeaderMenu-dropdown-link lh-condensed d-block no-underline position-relative py-2 Link--secondary d-flex flex-items-center pb-lg-3" data-analytics-event="{&quot;category&quot;:&quot;Header dropdown (logged out), Product&quot;,&quot;action&quot;:&quot;click to go to Code review&quot;,&quot;label&quot;:&quot;ref_cta:Code review;&quot;}" href="/features/code-review">
      <svg aria-hidden="true" height="24" viewBox="0 0 24 24" version="1.1" width="24" data-view-component="true" class="octicon octicon-code-review color-fg-subtle mr-3">
    <path d="M10.3 6.74a.75.75 0 0 1-.04 1.06l-2.908 2.7 2.908 2.7a.75.75 0 1 1-1.02 1.1l-3.5-3.25a.75.75 0 0 1 0-1.1l3.5-3.25a.75.75 0 0 1 1.06.04Zm3.44 1.06a.75.75 0 1 1 1.02-1.1l3.5 3.25a.75.75 0 0 1 0 1.1l-3.5 3.25a.75.75 0 1 1-1.02-1.1l2.908-2.7-2.908-2.7Z"></path><path d="M1.5 4.25c0-.966.784-1.75 1.75-1.75h17.5c.966 0 1.75.784 1.75 1.75v12.5a1.75 1.75 0 0 1-1.75 1.75h-9.69l-3.573 3.573A1.458 1.458 0 0 1 5 21.043V18.5H3.25a1.75 1.75 0 0 1-1.75-1.75ZM3.25 4a.25.25 0 0 0-.25.25v12.5c0 .138.112.25.25.25h2.5a.75.75 0 0 1 .75.75v3.19l3.72-3.72a.749.749 0 0 1 .53-.22h10a.25.25 0 0 0 .25-.25V4.25a.25.25 0 0 0-.25-.25Z"></path>
</svg>
      <div>
        <div class="color-fg-default h4">Code review</div>
        Manage code changes
      </div>

    
</a></li>

                <li>
  <a class="HeaderMenu-dropdown-link lh-condensed d-block no-underline position-relative py-2 Link--secondary d-flex flex-items-center pb-lg-3" data-analytics-event="{&quot;category&quot;:&quot;Header dropdown (logged out), Product&quot;,&quot;action&quot;:&quot;click to go to Issues&quot;,&quot;label&quot;:&quot;ref_cta:Issues;&quot;}" href="/features/issues">
      <svg aria-hidden="true" height="24" viewBox="0 0 24 24" version="1.1" width="24" data-view-component="true" class="octicon octicon-issue-opened color-fg-subtle mr-3">
    <path d="M12 1c6.075 0 11 4.925 11 11s-4.925 11-11 11S1 18.075 1 12 5.925 1 12 1ZM2.5 12a9.5 9.5 0 0 0 9.5 9.5 9.5 9.5 0 0 0 9.5-9.5A9.5 9.5 0 0 0 12 2.5 9.5 9.5 0 0 0 2.5 12Zm9.5 2a2 2 0 1 1-.001-3.999A2 2 0 0 1 12 14Z"></path>
</svg>
      <div>
        <div class="color-fg-default h4">Issues</div>
        Plan and track work
      </div>

    
</a></li>

                <li>
  <a class="HeaderMenu-dropdown-link lh-condensed d-block no-underline position-relative py-2 Link--secondary d-flex flex-items-center" data-analytics-event="{&quot;category&quot;:&quot;Header dropdown (logged out), Product&quot;,&quot;action&quot;:&quot;click to go to Discussions&quot;,&quot;label&quot;:&quot;ref_cta:Discussions;&quot;}" href="/features/discussions">
      <svg aria-hidden="true" height="24" viewBox="0 0 24 24" version="1.1" width="24" data-view-component="true" class="octicon octicon-comment-discussion color-fg-subtle mr-3">
    <path d="M1.75 1h12.5c.966 0 1.75.784 1.75 1.75v9.5A1.75 1.75 0 0 1 14.25 14H8.061l-2.574 2.573A1.458 1.458 0 0 1 3 15.543V14H1.75A1.75 1.75 0 0 1 0 12.25v-9.5C0 1.784.784 1 1.75 1ZM1.5 2.75v9.5c0 .138.112.25.25.25h2a.75.75 0 0 1 .75.75v2.19l2.72-2.72a.749.749 0 0 1 .53-.22h6.5a.25.25 0 0 0 .25-.25v-9.5a.25.25 0 0 0-.25-.25H1.75a.25.25 0 0 0-.25.25Z"></path><path d="M22.5 8.75a.25.25 0 0 0-.25-.25h-3.5a.75.75 0 0 1 0-1.5h3.5c.966 0 1.75.784 1.75 1.75v9.5A1.75 1.75 0 0 1 22.25 20H21v1.543a1.457 1.457 0 0 1-2.487 1.03L15.939 20H10.75A1.75 1.75 0 0 1 9 18.25v-1.465a.75.75 0 0 1 1.5 0v1.465c0 .138.112.25.25.25h5.5a.75.75 0 0 1 .53.22l2.72 2.72v-2.19a.75.75 0 0 1 .75-.75h2a.25.25 0 0 0 .25-.25v-9.5Z"></path>
</svg>
      <div>
        <div class="color-fg-default h4">Discussions</div>
        Collaborate outside of code
      </div>

    
</a></li>

            </ul>
          </div>
          <div class="px-lg-4">
              <span class="d-block h4 color-fg-default my-1" id="product-explore-heading">Explore</span>
            <ul class="list-style-none f5" aria-labelledby="product-explore-heading">
                <li>
  <a class="HeaderMenu-dropdown-link lh-condensed d-block no-underline position-relative py-2 Link--secondary" data-analytics-event="{&quot;category&quot;:&quot;Header dropdown (logged out), Product&quot;,&quot;action&quot;:&quot;click to go to All features&quot;,&quot;label&quot;:&quot;ref_cta:All features;&quot;}" href="/features">
      All features

    
</a></li>

                <li>
  <a class="HeaderMenu-dropdown-link lh-condensed d-block no-underline position-relative py-2 Link--secondary" target="_blank" data-analytics-event="{&quot;category&quot;:&quot;Header dropdown (logged out), Product&quot;,&quot;action&quot;:&quot;click to go to Documentation&quot;,&quot;label&quot;:&quot;ref_cta:Documentation;&quot;}" href="https://docs.github.com">
      Documentation

    <svg aria-hidden="true" height="16" viewBox="0 0 16 16" version="1.1" width="16" data-view-component="true" class="octicon octicon-link-external HeaderMenu-external-icon color-fg-subtle">
    <path d="M3.75 2h3.5a.75.75 0 0 1 0 1.5h-3.5a.25.25 0 0 0-.25.25v8.5c0 .138.112.25.25.25h8.5a.25.25 0 0 0 .25-.25v-3.5a.75.75 0 0 1 1.5 0v3.5A1.75 1.75 0 0 1 12.25 14h-8.5A1.75 1.75 0 0 1 2 12.25v-8.5C2 2.784 2.784 2 3.75 2Zm6.854-1h4.146a.25.25 0 0 1 .25.25v4.146a.25.25 0 0 1-.427.177L13.03 4.03 9.28 7.78a.751.751 0 0 1-1.042-.018.751.751 0 0 1-.018-1.042l3.75-3.75-1.543-1.543A.25.25 0 0 1 10.604 1Z"></path>
</svg>
</a></li>

                <li>
  <a class="HeaderMenu-dropdown-link lh-condensed d-block no-underline position-relative py-2 Link--secondary" target="_blank" data-analytics-event="{&quot;category&quot;:&quot;Header dropdown (logged out), Product&quot;,&quot;action&quot;:&quot;click to go to GitHub Skills&quot;,&quot;label&quot;:&quot;ref_cta:GitHub Skills;&quot;}" href="https://skills.github.com/">
      GitHub Skills

    <svg aria-hidden="true" height="16" viewBox="0 0 16 16" version="1.1" width="16" data-view-component="true" class="octicon octicon-link-external HeaderMenu-external-icon color-fg-subtle">
    <path d="M3.75 2h3.5a.75.75 0 0 1 0 1.5h-3.5a.25.25 0 0 0-.25.25v8.5c0 .138.112.25.25.25h8.5a.25.25 0 0 0 .25-.25v-3.5a.75.75 0 0 1 1.5 0v3.5A1.75 1.75 0 0 1 12.25 14h-8.5A1.75 1.75 0 0 1 2 12.25v-8.5C2 2.784 2.784 2 3.75 2Zm6.854-1h4.146a.25.25 0 0 1 .25.25v4.146a.25.25 0 0 1-.427.177L13.03 4.03 9.28 7.78a.751.751 0 0 1-1.042-.018.751.751 0 0 1-.018-1.042l3.75-3.75-1.543-1.543A.25.25 0 0 1 10.604 1Z"></path>
</svg>
</a></li>

                <li>
  <a class="HeaderMenu-dropdown-link lh-condensed d-block no-underline position-relative py-2 Link--secondary" target="_blank" data-analytics-event="{&quot;category&quot;:&quot;Header dropdown (logged out), Product&quot;,&quot;action&quot;:&quot;click to go to Blog&quot;,&quot;label&quot;:&quot;ref_cta:Blog;&quot;}" href="https://github.blog">
      Blog

    <svg aria-hidden="true" height="16" viewBox="0 0 16 16" version="1.1" width="16" data-view-component="true" class="octicon octicon-link-external HeaderMenu-external-icon color-fg-subtle">
    <path d="M3.75 2h3.5a.75.75 0 0 1 0 1.5h-3.5a.25.25 0 0 0-.25.25v8.5c0 .138.112.25.25.25h8.5a.25.25 0 0 0 .25-.25v-3.5a.75.75 0 0 1 1.5 0v3.5A1.75 1.75 0 0 1 12.25 14h-8.5A1.75 1.75 0 0 1 2 12.25v-8.5C2 2.784 2.784 2 3.75 2Zm6.854-1h4.146a.25.25 0 0 1 .25.25v4.146a.25.25 0 0 1-.427.177L13.03 4.03 9.28 7.78a.751.751 0 0 1-1.042-.018.751.751 0 0 1-.018-1.042l3.75-3.75-1.543-1.543A.25.25 0 0 1 10.604 1Z"></path>
</svg>
</a></li>

            </ul>
          </div>
      </div>
</li>


                <li class="HeaderMenu-item position-relative flex-wrap flex-justify-between flex-items-center d-block d-lg-flex flex-lg-nowrap flex-lg-items-center js-details-container js-header-menu-item">
      <button type="button" class="HeaderMenu-link border-0 width-full width-lg-auto px-0 px-lg-2 py-3 py-lg-2 no-wrap d-flex flex-items-center flex-justify-between js-details-target" aria-expanded="false">
        Solutions
        <svg opacity="0.5" aria-hidden="true" height="16" viewBox="0 0 16 16" version="1.1" width="16" data-view-component="true" class="octicon octicon-chevron-down HeaderMenu-icon ml-1">
    <path d="M12.78 5.22a.749.749 0 0 1 0 1.06l-4.25 4.25a.749.749 0 0 1-1.06 0L3.22 6.28a.749.749 0 1 1 1.06-1.06L8 8.939l3.72-3.719a.749.749 0 0 1 1.06 0Z"></path>
</svg>
      </button>
      <div class="HeaderMenu-dropdown dropdown-menu rounded m-0 p-0 py-2 py-lg-4 position-relative position-lg-absolute left-0 left-lg-n3 px-lg-4">
          <div class="border-bottom pb-3 mb-3">
              <span class="d-block h4 color-fg-default my-1" id="solutions-for-heading">For</span>
            <ul class="list-style-none f5" aria-labelledby="solutions-for-heading">
                <li>
  <a class="HeaderMenu-dropdown-link lh-condensed d-block no-underline position-relative py-2 Link--secondary" data-analytics-event="{&quot;category&quot;:&quot;Header dropdown (logged out), Solutions&quot;,&quot;action&quot;:&quot;click to go to Enterprise&quot;,&quot;label&quot;:&quot;ref_cta:Enterprise;&quot;}" href="/enterprise">
      Enterprise

    
</a></li>

                <li>
  <a class="HeaderMenu-dropdown-link lh-condensed d-block no-underline position-relative py-2 Link--secondary" data-analytics-event="{&quot;category&quot;:&quot;Header dropdown (logged out), Solutions&quot;,&quot;action&quot;:&quot;click to go to Teams&quot;,&quot;label&quot;:&quot;ref_cta:Teams;&quot;}" href="/team">
      Teams

    
</a></li>

                <li>
  <a class="HeaderMenu-dropdown-link lh-condensed d-block no-underline position-relative py-2 Link--secondary" data-analytics-event="{&quot;category&quot;:&quot;Header dropdown (logged out), Solutions&quot;,&quot;action&quot;:&quot;click to go to Startups&quot;,&quot;label&quot;:&quot;ref_cta:Startups;&quot;}" href="/enterprise/startups">
      Startups

    
</a></li>

                <li>
  <a class="HeaderMenu-dropdown-link lh-condensed d-block no-underline position-relative py-2 Link--secondary" target="_blank" data-analytics-event="{&quot;category&quot;:&quot;Header dropdown (logged out), Solutions&quot;,&quot;action&quot;:&quot;click to go to Education&quot;,&quot;label&quot;:&quot;ref_cta:Education;&quot;}" href="https://education.github.com">
      Education

    <svg aria-hidden="true" height="16" viewBox="0 0 16 16" version="1.1" width="16" data-view-component="true" class="octicon octicon-link-external HeaderMenu-external-icon color-fg-subtle">
    <path d="M3.75 2h3.5a.75.75 0 0 1 0 1.5h-3.5a.25.25 0 0 0-.25.25v8.5c0 .138.112.25.25.25h8.5a.25.25 0 0 0 .25-.25v-3.5a.75.75 0 0 1 1.5 0v3.5A1.75 1.75 0 0 1 12.25 14h-8.5A1.75 1.75 0 0 1 2 12.25v-8.5C2 2.784 2.784 2 3.75 2Zm6.854-1h4.146a.25.25 0 0 1 .25.25v4.146a.25.25 0 0 1-.427.177L13.03 4.03 9.28 7.78a.751.751 0 0 1-1.042-.018.751.751 0 0 1-.018-1.042l3.75-3.75-1.543-1.543A.25.25 0 0 1 10.604 1Z"></path>
</svg>
</a></li>

            </ul>
          </div>
          <div class="border-bottom pb-3 mb-3">
              <span class="d-block h4 color-fg-default my-1" id="solutions-by-solution-heading">By Solution</span>
            <ul class="list-style-none f5" aria-labelledby="solutions-by-solution-heading">
                <li>
  <a class="HeaderMenu-dropdown-link lh-condensed d-block no-underline position-relative py-2 Link--secondary" data-analytics-event="{&quot;category&quot;:&quot;Header dropdown (logged out), Solutions&quot;,&quot;action&quot;:&quot;click to go to CI/CD &amp;amp; Automation&quot;,&quot;label&quot;:&quot;ref_cta:CI/CD &amp;amp; Automation;&quot;}" href="/solutions/ci-cd/">
      CI/CD &amp; Automation

    
</a></li>

                <li>
  <a class="HeaderMenu-dropdown-link lh-condensed d-block no-underline position-relative py-2 Link--secondary" target="_blank" data-analytics-event="{&quot;category&quot;:&quot;Header dropdown (logged out), Solutions&quot;,&quot;action&quot;:&quot;click to go to DevOps&quot;,&quot;label&quot;:&quot;ref_cta:DevOps;&quot;}" href="https://resources.github.com/devops/">
      DevOps

    <svg aria-hidden="true" height="16" viewBox="0 0 16 16" version="1.1" width="16" data-view-component="true" class="octicon octicon-link-external HeaderMenu-external-icon color-fg-subtle">
    <path d="M3.75 2h3.5a.75.75 0 0 1 0 1.5h-3.5a.25.25 0 0 0-.25.25v8.5c0 .138.112.25.25.25h8.5a.25.25 0 0 0 .25-.25v-3.5a.75.75 0 0 1 1.5 0v3.5A1.75 1.75 0 0 1 12.25 14h-8.5A1.75 1.75 0 0 1 2 12.25v-8.5C2 2.784 2.784 2 3.75 2Zm6.854-1h4.146a.25.25 0 0 1 .25.25v4.146a.25.25 0 0 1-.427.177L13.03 4.03 9.28 7.78a.751.751 0 0 1-1.042-.018.751.751 0 0 1-.018-1.042l3.75-3.75-1.543-1.543A.25.25 0 0 1 10.604 1Z"></path>
</svg>
</a></li>

                <li>
  <a class="HeaderMenu-dropdown-link lh-condensed d-block no-underline position-relative py-2 Link--secondary" target="_blank" data-analytics-event="{&quot;category&quot;:&quot;Header dropdown (logged out), Solutions&quot;,&quot;action&quot;:&quot;click to go to DevSecOps&quot;,&quot;label&quot;:&quot;ref_cta:DevSecOps;&quot;}" href="https://resources.github.com/devops/fundamentals/devsecops/">
      DevSecOps

    <svg aria-hidden="true" height="16" viewBox="0 0 16 16" version="1.1" width="16" data-view-component="true" class="octicon octicon-link-external HeaderMenu-external-icon color-fg-subtle">
    <path d="M3.75 2h3.5a.75.75 0 0 1 0 1.5h-3.5a.25.25 0 0 0-.25.25v8.5c0 .138.112.25.25.25h8.5a.25.25 0 0 0 .25-.25v-3.5a.75.75 0 0 1 1.5 0v3.5A1.75 1.75 0 0 1 12.25 14h-8.5A1.75 1.75 0 0 1 2 12.25v-8.5C2 2.784 2.784 2 3.75 2Zm6.854-1h4.146a.25.25 0 0 1 .25.25v4.146a.25.25 0 0 1-.427.177L13.03 4.03 9.28 7.78a.751.751 0 0 1-1.042-.018.751.751 0 0 1-.018-1.042l3.75-3.75-1.543-1.543A.25.25 0 0 1 10.604 1Z"></path>
</svg>
</a></li>

            </ul>
          </div>
          <div class="">
              <span class="d-block h4 color-fg-default my-1" id="solutions-resources-heading">Resources</span>
            <ul class="list-style-none f5" aria-labelledby="solutions-resources-heading">
                <li>
  <a class="HeaderMenu-dropdown-link lh-condensed d-block no-underline position-relative py-2 Link--secondary" data-analytics-event="{&quot;category&quot;:&quot;Header dropdown (logged out), Solutions&quot;,&quot;action&quot;:&quot;click to go to Customer Stories&quot;,&quot;label&quot;:&quot;ref_cta:Customer Stories;&quot;}" href="/customer-stories">
      Customer Stories

    
</a></li>

                <li>
  <a class="HeaderMenu-dropdown-link lh-condensed d-block no-underline position-relative py-2 Link--secondary" target="_blank" data-analytics-event="{&quot;category&quot;:&quot;Header dropdown (logged out), Solutions&quot;,&quot;action&quot;:&quot;click to go to White papers, Ebooks, Webinars&quot;,&quot;label&quot;:&quot;ref_cta:White papers, Ebooks, Webinars;&quot;}" href="https://resources.github.com/">
      White papers, Ebooks, Webinars

    <svg aria-hidden="true" height="16" viewBox="0 0 16 16" version="1.1" width="16" data-view-component="true" class="octicon octicon-link-external HeaderMenu-external-icon color-fg-subtle">
    <path d="M3.75 2h3.5a.75.75 0 0 1 0 1.5h-3.5a.25.25 0 0 0-.25.25v8.5c0 .138.112.25.25.25h8.5a.25.25 0 0 0 .25-.25v-3.5a.75.75 0 0 1 1.5 0v3.5A1.75 1.75 0 0 1 12.25 14h-8.5A1.75 1.75 0 0 1 2 12.25v-8.5C2 2.784 2.784 2 3.75 2Zm6.854-1h4.146a.25.25 0 0 1 .25.25v4.146a.25.25 0 0 1-.427.177L13.03 4.03 9.28 7.78a.751.751 0 0 1-1.042-.018.751.751 0 0 1-.018-1.042l3.75-3.75-1.543-1.543A.25.25 0 0 1 10.604 1Z"></path>
</svg>
</a></li>

                <li>
  <a class="HeaderMenu-dropdown-link lh-condensed d-block no-underline position-relative py-2 Link--secondary" target="_blank" data-analytics-event="{&quot;category&quot;:&quot;Header dropdown (logged out), Solutions&quot;,&quot;action&quot;:&quot;click to go to Partners&quot;,&quot;label&quot;:&quot;ref_cta:Partners;&quot;}" href="https://partner.github.com/">
      Partners

    <svg aria-hidden="true" height="16" viewBox="0 0 16 16" version="1.1" width="16" data-view-component="true" class="octicon octicon-link-external HeaderMenu-external-icon color-fg-subtle">
    <path d="M3.75 2h3.5a.75.75 0 0 1 0 1.5h-3.5a.25.25 0 0 0-.25.25v8.5c0 .138.112.25.25.25h8.5a.25.25 0 0 0 .25-.25v-3.5a.75.75 0 0 1 1.5 0v3.5A1.75 1.75 0 0 1 12.25 14h-8.5A1.75 1.75 0 0 1 2 12.25v-8.5C2 2.784 2.784 2 3.75 2Zm6.854-1h4.146a.25.25 0 0 1 .25.25v4.146a.25.25 0 0 1-.427.177L13.03 4.03 9.28 7.78a.751.751 0 0 1-1.042-.018.751.751 0 0 1-.018-1.042l3.75-3.75-1.543-1.543A.25.25 0 0 1 10.604 1Z"></path>
</svg>
</a></li>

            </ul>
          </div>
      </div>
</li>


                <li class="HeaderMenu-item position-relative flex-wrap flex-justify-between flex-items-center d-block d-lg-flex flex-lg-nowrap flex-lg-items-center js-details-container js-header-menu-item">
      <button type="button" class="HeaderMenu-link border-0 width-full width-lg-auto px-0 px-lg-2 py-3 py-lg-2 no-wrap d-flex flex-items-center flex-justify-between js-details-target" aria-expanded="false">
        Open Source
        <svg opacity="0.5" aria-hidden="true" height="16" viewBox="0 0 16 16" version="1.1" width="16" data-view-component="true" class="octicon octicon-chevron-down HeaderMenu-icon ml-1">
    <path d="M12.78 5.22a.749.749 0 0 1 0 1.06l-4.25 4.25a.749.749 0 0 1-1.06 0L3.22 6.28a.749.749 0 1 1 1.06-1.06L8 8.939l3.72-3.719a.749.749 0 0 1 1.06 0Z"></path>
</svg>
      </button>
      <div class="HeaderMenu-dropdown dropdown-menu rounded m-0 p-0 py-2 py-lg-4 position-relative position-lg-absolute left-0 left-lg-n3 px-lg-4">
          <div class="border-bottom pb-3 mb-3">
            <ul class="list-style-none f5" >
                <li>
  <a class="HeaderMenu-dropdown-link lh-condensed d-block no-underline position-relative py-2 Link--secondary d-flex flex-items-center" data-analytics-event="{&quot;category&quot;:&quot;Header dropdown (logged out), Open Source&quot;,&quot;action&quot;:&quot;click to go to GitHub Sponsors&quot;,&quot;label&quot;:&quot;ref_cta:GitHub Sponsors;&quot;}" href="/sponsors">
      
      <div>
        <div class="color-fg-default h4">GitHub Sponsors</div>
        Fund open source developers
      </div>

    
</a></li>

            </ul>
          </div>
          <div class="border-bottom pb-3 mb-3">
            <ul class="list-style-none f5" >
                <li>
  <a class="HeaderMenu-dropdown-link lh-condensed d-block no-underline position-relative py-2 Link--secondary d-flex flex-items-center" data-analytics-event="{&quot;category&quot;:&quot;Header dropdown (logged out), Open Source&quot;,&quot;action&quot;:&quot;click to go to The ReadME Project&quot;,&quot;label&quot;:&quot;ref_cta:The ReadME Project;&quot;}" href="/readme">
      
      <div>
        <div class="color-fg-default h4">The ReadME Project</div>
        GitHub community articles
      </div>

    
</a></li>

            </ul>
          </div>
          <div class="">
              <span class="d-block h4 color-fg-default my-1" id="open-source-repositories-heading">Repositories</span>
            <ul class="list-style-none f5" aria-labelledby="open-source-repositories-heading">
                <li>
  <a class="HeaderMenu-dropdown-link lh-condensed d-block no-underline position-relative py-2 Link--secondary" data-analytics-event="{&quot;category&quot;:&quot;Header dropdown (logged out), Open Source&quot;,&quot;action&quot;:&quot;click to go to Topics&quot;,&quot;label&quot;:&quot;ref_cta:Topics;&quot;}" href="/topics">
      Topics

    
</a></li>

                <li>
  <a class="HeaderMenu-dropdown-link lh-condensed d-block no-underline position-relative py-2 Link--secondary" data-analytics-event="{&quot;category&quot;:&quot;Header dropdown (logged out), Open Source&quot;,&quot;action&quot;:&quot;click to go to Trending&quot;,&quot;label&quot;:&quot;ref_cta:Trending;&quot;}" href="/trending">
      Trending

    
</a></li>

                <li>
  <a class="HeaderMenu-dropdown-link lh-condensed d-block no-underline position-relative py-2 Link--secondary" data-analytics-event="{&quot;category&quot;:&quot;Header dropdown (logged out), Open Source&quot;,&quot;action&quot;:&quot;click to go to Collections&quot;,&quot;label&quot;:&quot;ref_cta:Collections;&quot;}" href="/collections">
      Collections

    
</a></li>

            </ul>
          </div>
      </div>
</li>


                <li class="HeaderMenu-item position-relative flex-wrap flex-justify-between flex-items-center d-block d-lg-flex flex-lg-nowrap flex-lg-items-center js-details-container js-header-menu-item">
    <a class="HeaderMenu-link no-underline px-0 px-lg-2 py-3 py-lg-2 d-block d-lg-inline-block" data-analytics-event="{&quot;category&quot;:&quot;Header menu top item (logged out)&quot;,&quot;action&quot;:&quot;click to go to Pricing&quot;,&quot;label&quot;:&quot;ref_cta:Pricing;&quot;}" href="/pricing">Pricing</a>
</li>

            </ul>
          </nav>

        <div class="d-lg-flex flex-items-center mb-3 mb-lg-0 text-center text-lg-left ml-3" style="">
                


<qbsearch-input class="search-input" data-scope="repo:Roshni-M9296/Assignment-on-Classification" data-custom-scopes-path="/search/custom_scopes" data-delete-custom-scopes-csrf="2Rj8kc7eU_so1oy4u2wIimJH0VNWZegiak0W8affKS-nsy9XqF911pn5AhAnBXGG7ADlmEHYK6Puvdlt4nWbpw" data-max-custom-scopes="10" data-header-redesign-enabled="false" data-initial-value="" data-blackbird-suggestions-path="/search/suggestions" data-jump-to-suggestions-path="/_graphql/GetSuggestedNavigationDestinations" data-current-repository="Roshni-M9296/Assignment-on-Classification" data-current-org="" data-current-owner="Roshni-M9296" data-logged-in="false">
  <div
    class="search-input-container search-with-dialog position-relative d-flex flex-row flex-items-center mr-4 rounded"
    data-action="click:qbsearch-input#searchInputContainerClicked"
  >
      <button
        type="button"
        class="header-search-button placeholder  input-button form-control d-flex flex-1 flex-self-stretch flex-items-center no-wrap width-full py-0 pl-2 pr-0 text-left border-0 box-shadow-none"
        data-target="qbsearch-input.inputButton"
        placeholder="Search or jump to..."
        data-hotkey=s,/
        autocapitalize="off"
        data-action="click:qbsearch-input#handleExpand"
      >
        <div class="mr-2 color-fg-muted">
          <svg aria-hidden="true" height="16" viewBox="0 0 16 16" version="1.1" width="16" data-view-component="true" class="octicon octicon-search">
    <path d="M10.68 11.74a6 6 0 0 1-7.922-8.982 6 6 0 0 1 8.982 7.922l3.04 3.04a.749.749 0 0 1-.326 1.275.749.749 0 0 1-.734-.215ZM11.5 7a4.499 4.499 0 1 0-8.997 0A4.499 4.499 0 0 0 11.5 7Z"></path>
</svg>
        </div>
        <span class="flex-1" data-target="qbsearch-input.inputButtonText">Search or jump to...</span>
          <div class="d-flex" data-target="qbsearch-input.hotkeyIndicator">
            <svg xmlns="http://www.w3.org/2000/svg" width="22" height="20" aria-hidden="true" class="mr-1"><path fill="none" stroke="#979A9C" opacity=".4" d="M3.5.5h12c1.7 0 3 1.3 3 3v13c0 1.7-1.3 3-3 3h-12c-1.7 0-3-1.3-3-3v-13c0-1.7 1.3-3 3-3z"></path><path fill="#979A9C" d="M11.8 6L8 15.1h-.9L10.8 6h1z"></path></svg>

          </div>
      </button>

    <input type="hidden" name="type" class="js-site-search-type-field">

    
<div class="Overlay--hidden " data-modal-dialog-overlay>
  <modal-dialog data-action="close:qbsearch-input#handleClose cancel:qbsearch-input#handleClose" data-target="qbsearch-input.searchSuggestionsDialog" role="dialog" id="search-suggestions-dialog" aria-modal="true" aria-labelledby="search-suggestions-dialog-header" data-view-component="true" class="Overlay Overlay--width-large Overlay--height-auto">
      <h1 id="search-suggestions-dialog-header" class="sr-only">Search code, repositories, users, issues, pull requests...</h1>
    <div class="Overlay-body Overlay-body--paddingNone">
      
          <div data-view-component="true">        <div class="search-suggestions position-fixed width-full color-shadow-large border color-fg-default color-bg-default overflow-hidden d-flex flex-column query-builder-container"
          style="border-radius: 12px;"
          data-target="qbsearch-input.queryBuilderContainer"
          hidden
        >
          <!-- '"` --><!-- </textarea></xmp> --></option></form><form id="query-builder-test-form" action="" accept-charset="UTF-8" method="get">
  <query-builder data-target="qbsearch-input.queryBuilder" id="query-builder-query-builder-test" data-filter-key=":" data-view-component="true" class="QueryBuilder search-query-builder">
    <div class="FormControl FormControl--fullWidth">
      <label id="query-builder-test-label" for="query-builder-test" class="FormControl-label sr-only">
        Search
      </label>
      <div class="QueryBuilder-StyledInput width-fit" data-target="query-builder.styledInput">
          <span id="query-builder-test-leadingvisual-wrap" class="FormControl-input-leadingVisualWrap QueryBuilder-leadingVisualWrap">
            <svg aria-hidden="true" height="16" viewBox="0 0 16 16" version="1.1" width="16" data-view-component="true" class="octicon octicon-search FormControl-input-leadingVisual">
    <path d="M10.68 11.74a6 6 0 0 1-7.922-8.982 6 6 0 0 1 8.982 7.922l3.04 3.04a.749.749 0 0 1-.326 1.275.749.749 0 0 1-.734-.215ZM11.5 7a4.499 4.499 0 1 0-8.997 0A4.499 4.499 0 0 0 11.5 7Z"></path>
</svg>
          </span>
        <div data-target="query-builder.styledInputContainer" class="QueryBuilder-StyledInputContainer">
          <div
            aria-hidden="true"
            class="QueryBuilder-StyledInputContent"
            data-target="query-builder.styledInputContent"
          ></div>
          <div class="QueryBuilder-InputWrapper">
            <div aria-hidden="true" class="QueryBuilder-Sizer" data-target="query-builder.sizer"></div>
            <input id="query-builder-test" name="query-builder-test" value="" autocomplete="off" type="text" role="combobox" spellcheck="false" aria-expanded="false" data-target="query-builder.input" data-action="
          input:query-builder#inputChange
          blur:query-builder#inputBlur
          keydown:query-builder#inputKeydown
          focus:query-builder#inputFocus
        " data-view-component="true" class="FormControl-input QueryBuilder-Input FormControl-medium" />
          </div>
        </div>
          <span class="sr-only" id="query-builder-test-clear">Clear</span>
          
  <button role="button" id="query-builder-test-clear-button" aria-labelledby="query-builder-test-clear query-builder-test-label" data-target="query-builder.clearButton" data-action="
                click:query-builder#clear
                focus:query-builder#clearButtonFocus
                blur:query-builder#clearButtonBlur
              " variant="small" hidden="hidden" type="button" data-view-component="true" class="Button Button--iconOnly Button--invisible Button--medium mr-1 px-2 py-0 d-flex flex-items-center rounded-1 color-fg-muted">    <svg aria-hidden="true" height="16" viewBox="0 0 16 16" version="1.1" width="16" data-view-component="true" class="octicon octicon-x-circle-fill Button-visual">
    <path d="M2.343 13.657A8 8 0 1 1 13.658 2.343 8 8 0 0 1 2.343 13.657ZM6.03 4.97a.751.751 0 0 0-1.042.018.751.751 0 0 0-.018 1.042L6.94 8 4.97 9.97a.749.749 0 0 0 .326 1.275.749.749 0 0 0 .734-.215L8 9.06l1.97 1.97a.749.749 0 0 0 1.275-.326.749.749 0 0 0-.215-.734L9.06 8l1.97-1.97a.749.749 0 0 0-.326-1.275.749.749 0 0 0-.734.215L8 6.94Z"></path>
</svg>
</button>  

      </div>
      <template id="search-icon">
  <svg aria-hidden="true" height="16" viewBox="0 0 16 16" version="1.1" width="16" data-view-component="true" class="octicon octicon-search">
    <path d="M10.68 11.74a6 6 0 0 1-7.922-8.982 6 6 0 0 1 8.982 7.922l3.04 3.04a.749.749 0 0 1-.326 1.275.749.749 0 0 1-.734-.215ZM11.5 7a4.499 4.499 0 1 0-8.997 0A4.499 4.499 0 0 0 11.5 7Z"></path>
</svg>
</template>

<template id="code-icon">
  <svg aria-hidden="true" height="16" viewBox="0 0 16 16" version="1.1" width="16" data-view-component="true" class="octicon octicon-code">
    <path d="m11.28 3.22 4.25 4.25a.75.75 0 0 1 0 1.06l-4.25 4.25a.749.749 0 0 1-1.275-.326.749.749 0 0 1 .215-.734L13.94 8l-3.72-3.72a.749.749 0 0 1 .326-1.275.749.749 0 0 1 .734.215Zm-6.56 0a.751.751 0 0 1 1.042.018.751.751 0 0 1 .018 1.042L2.06 8l3.72 3.72a.749.749 0 0 1-.326 1.275.749.749 0 0 1-.734-.215L.47 8.53a.75.75 0 0 1 0-1.06Z"></path>
</svg>
</template>

<template id="file-code-icon">
  <svg aria-hidden="true" height="16" viewBox="0 0 16 16" version="1.1" width="16" data-view-component="true" class="octicon octicon-file-code">
    <path d="M4 1.75C4 .784 4.784 0 5.75 0h5.586c.464 0 .909.184 1.237.513l2.914 2.914c.329.328.513.773.513 1.237v8.586A1.75 1.75 0 0 1 14.25 15h-9a.75.75 0 0 1 0-1.5h9a.25.25 0 0 0 .25-.25V6h-2.75A1.75 1.75 0 0 1 10 4.25V1.5H5.75a.25.25 0 0 0-.25.25v2.5a.75.75 0 0 1-1.5 0Zm1.72 4.97a.75.75 0 0 1 1.06 0l2 2a.75.75 0 0 1 0 1.06l-2 2a.749.749 0 0 1-1.275-.326.749.749 0 0 1 .215-.734l1.47-1.47-1.47-1.47a.75.75 0 0 1 0-1.06ZM3.28 7.78 1.81 9.25l1.47 1.47a.751.751 0 0 1-.018 1.042.751.751 0 0 1-1.042.018l-2-2a.75.75 0 0 1 0-1.06l2-2a.751.751 0 0 1 1.042.018.751.751 0 0 1 .018 1.042Zm8.22-6.218V4.25c0 .138.112.25.25.25h2.688l-.011-.013-2.914-2.914-.013-.011Z"></path>
</svg>
</template>

<template id="history-icon">
  <svg aria-hidden="true" height="16" viewBox="0 0 16 16" version="1.1" width="16" data-view-component="true" class="octicon octicon-history">
    <path d="m.427 1.927 1.215 1.215a8.002 8.002 0 1 1-1.6 5.685.75.75 0 1 1 1.493-.154 6.5 6.5 0 1 0 1.18-4.458l1.358 1.358A.25.25 0 0 1 3.896 6H.25A.25.25 0 0 1 0 5.75V2.104a.25.25 0 0 1 .427-.177ZM7.75 4a.75.75 0 0 1 .75.75v2.992l2.028.812a.75.75 0 0 1-.557 1.392l-2.5-1A.751.751 0 0 1 7 8.25v-3.5A.75.75 0 0 1 7.75 4Z"></path>
</svg>
</template>

<template id="repo-icon">
  <svg aria-hidden="true" height="16" viewBox="0 0 16 16" version="1.1" width="16" data-view-component="true" class="octicon octicon-repo">
    <path d="M2 2.5A2.5 2.5 0 0 1 4.5 0h8.75a.75.75 0 0 1 .75.75v12.5a.75.75 0 0 1-.75.75h-2.5a.75.75 0 0 1 0-1.5h1.75v-2h-8a1 1 0 0 0-.714 1.7.75.75 0 1 1-1.072 1.05A2.495 2.495 0 0 1 2 11.5Zm10.5-1h-8a1 1 0 0 0-1 1v6.708A2.486 2.486 0 0 1 4.5 9h8ZM5 12.25a.25.25 0 0 1 .25-.25h3.5a.25.25 0 0 1 .25.25v3.25a.25.25 0 0 1-.4.2l-1.45-1.087a.249.249 0 0 0-.3 0L5.4 15.7a.25.25 0 0 1-.4-.2Z"></path>
</svg>
</template>

<template id="bookmark-icon">
  <svg aria-hidden="true" height="16" viewBox="0 0 16 16" version="1.1" width="16" data-view-component="true" class="octicon octicon-bookmark">
    <path d="M3 2.75C3 1.784 3.784 1 4.75 1h6.5c.966 0 1.75.784 1.75 1.75v11.5a.75.75 0 0 1-1.227.579L8 11.722l-3.773 3.107A.751.751 0 0 1 3 14.25Zm1.75-.25a.25.25 0 0 0-.25.25v9.91l3.023-2.489a.75.75 0 0 1 .954 0l3.023 2.49V2.75a.25.25 0 0 0-.25-.25Z"></path>
</svg>
</template>

<template id="plus-circle-icon">
  <svg aria-hidden="true" height="16" viewBox="0 0 16 16" version="1.1" width="16" data-view-component="true" class="octicon octicon-plus-circle">
    <path d="M8 0a8 8 0 1 1 0 16A8 8 0 0 1 8 0ZM1.5 8a6.5 6.5 0 1 0 13 0 6.5 6.5 0 0 0-13 0Zm7.25-3.25v2.5h2.5a.75.75 0 0 1 0 1.5h-2.5v2.5a.75.75 0 0 1-1.5 0v-2.5h-2.5a.75.75 0 0 1 0-1.5h2.5v-2.5a.75.75 0 0 1 1.5 0Z"></path>
</svg>
</template>

<template id="circle-icon">
  <svg aria-hidden="true" height="16" viewBox="0 0 16 16" version="1.1" width="16" data-view-component="true" class="octicon octicon-dot-fill">
    <path d="M8 4a4 4 0 1 1 0 8 4 4 0 0 1 0-8Z"></path>
</svg>
</template>

<template id="trash-icon">
  <svg aria-hidden="true" height="16" viewBox="0 0 16 16" version="1.1" width="16" data-view-component="true" class="octicon octicon-trash">
    <path d="M11 1.75V3h2.25a.75.75 0 0 1 0 1.5H2.75a.75.75 0 0 1 0-1.5H5V1.75C5 .784 5.784 0 6.75 0h2.5C10.216 0 11 .784 11 1.75ZM4.496 6.675l.66 6.6a.25.25 0 0 0 .249.225h5.19a.25.25 0 0 0 .249-.225l.66-6.6a.75.75 0 0 1 1.492.149l-.66 6.6A1.748 1.748 0 0 1 10.595 15h-5.19a1.75 1.75 0 0 1-1.741-1.575l-.66-6.6a.75.75 0 1 1 1.492-.15ZM6.5 1.75V3h3V1.75a.25.25 0 0 0-.25-.25h-2.5a.25.25 0 0 0-.25.25Z"></path>
</svg>
</template>

<template id="team-icon">
  <svg aria-hidden="true" height="16" viewBox="0 0 16 16" version="1.1" width="16" data-view-component="true" class="octicon octicon-people">
    <path d="M2 5.5a3.5 3.5 0 1 1 5.898 2.549 5.508 5.508 0 0 1 3.034 4.084.75.75 0 1 1-1.482.235 4 4 0 0 0-7.9 0 .75.75 0 0 1-1.482-.236A5.507 5.507 0 0 1 3.102 8.05 3.493 3.493 0 0 1 2 5.5ZM11 4a3.001 3.001 0 0 1 2.22 5.018 5.01 5.01 0 0 1 2.56 3.012.749.749 0 0 1-.885.954.752.752 0 0 1-.549-.514 3.507 3.507 0 0 0-2.522-2.372.75.75 0 0 1-.574-.73v-.352a.75.75 0 0 1 .416-.672A1.5 1.5 0 0 0 11 5.5.75.75 0 0 1 11 4Zm-5.5-.5a2 2 0 1 0-.001 3.999A2 2 0 0 0 5.5 3.5Z"></path>
</svg>
</template>

<template id="project-icon">
  <svg aria-hidden="true" height="16" viewBox="0 0 16 16" version="1.1" width="16" data-view-component="true" class="octicon octicon-project">
    <path d="M1.75 0h12.5C15.216 0 16 .784 16 1.75v12.5A1.75 1.75 0 0 1 14.25 16H1.75A1.75 1.75 0 0 1 0 14.25V1.75C0 .784.784 0 1.75 0ZM1.5 1.75v12.5c0 .138.112.25.25.25h12.5a.25.25 0 0 0 .25-.25V1.75a.25.25 0 0 0-.25-.25H1.75a.25.25 0 0 0-.25.25ZM11.75 3a.75.75 0 0 1 .75.75v7.5a.75.75 0 0 1-1.5 0v-7.5a.75.75 0 0 1 .75-.75Zm-8.25.75a.75.75 0 0 1 1.5 0v5.5a.75.75 0 0 1-1.5 0ZM8 3a.75.75 0 0 1 .75.75v3.5a.75.75 0 0 1-1.5 0v-3.5A.75.75 0 0 1 8 3Z"></path>
</svg>
</template>

<template id="pencil-icon">
  <svg aria-hidden="true" height="16" viewBox="0 0 16 16" version="1.1" width="16" data-view-component="true" class="octicon octicon-pencil">
    <path d="M11.013 1.427a1.75 1.75 0 0 1 2.474 0l1.086 1.086a1.75 1.75 0 0 1 0 2.474l-8.61 8.61c-.21.21-.47.364-.756.445l-3.251.93a.75.75 0 0 1-.927-.928l.929-3.25c.081-.286.235-.547.445-.758l8.61-8.61Zm.176 4.823L9.75 4.81l-6.286 6.287a.253.253 0 0 0-.064.108l-.558 1.953 1.953-.558a.253.253 0 0 0 .108-.064Zm1.238-3.763a.25.25 0 0 0-.354 0L10.811 3.75l1.439 1.44 1.263-1.263a.25.25 0 0 0 0-.354Z"></path>
</svg>
</template>

        <div class="position-relative">
                <ul
                  role="listbox"
                  class="ActionListWrap QueryBuilder-ListWrap"
                  aria-label="Suggestions"
                  data-action="
                    combobox-commit:query-builder#comboboxCommit
                    mousedown:query-builder#resultsMousedown
                  "
                  data-target="query-builder.resultsList"
                  data-persist-list=false
                  id="query-builder-test-results"
                ></ul>
        </div>
    </div>
    <div data-target="query-builder.screenReaderFeedback" aria-live="polite" aria-atomic="true" class="sr-only"></div>
</query-builder></form>
          <div class="d-flex flex-row color-fg-muted px-3 text-small color-bg-default search-feedback-prompt">
            <a target="_blank" href="https://docs.github.com/en/search-github/github-code-search/understanding-github-code-search-syntax" data-view-component="true" class="Link color-fg-accent text-normal ml-2">
              Search syntax tips
</a>            <div class="d-flex flex-1"></div>
          </div>
        </div>
</div>

    </div>
</modal-dialog></div>
  </div>
  <div data-action="click:qbsearch-input#retract" class="dark-backdrop position-fixed" hidden data-target="qbsearch-input.darkBackdrop"></div>
  <div class="color-fg-default">
    
<div class="Overlay--hidden Overlay-backdrop--center" data-modal-dialog-overlay>
  <modal-dialog data-target="qbsearch-input.feedbackDialog" data-action="close:qbsearch-input#handleDialogClose cancel:qbsearch-input#handleDialogClose" role="dialog" id="feedback-dialog" aria-modal="true" aria-disabled="true" aria-describedby="feedback-dialog-title feedback-dialog-description" data-view-component="true" class="Overlay Overlay-whenNarrow Overlay--size-medium Overlay--motion-scaleFade">
    <div data-view-component="true" class="Overlay-header">
  <div class="Overlay-headerContentWrap">
    <div class="Overlay-titleWrap">
      <h1 class="Overlay-title " id="feedback-dialog-title">
        Provide feedback
      </h1>
    </div>
    <div class="Overlay-actionWrap">
      <button data-close-dialog-id="feedback-dialog" aria-label="Close" type="button" data-view-component="true" class="close-button Overlay-closeButton"><svg aria-hidden="true" height="16" viewBox="0 0 16 16" version="1.1" width="16" data-view-component="true" class="octicon octicon-x">
    <path d="M3.72 3.72a.75.75 0 0 1 1.06 0L8 6.94l3.22-3.22a.749.749 0 0 1 1.275.326.749.749 0 0 1-.215.734L9.06 8l3.22 3.22a.749.749 0 0 1-.326 1.275.749.749 0 0 1-.734-.215L8 9.06l-3.22 3.22a.751.751 0 0 1-1.042-.018.751.751 0 0 1-.018-1.042L6.94 8 3.72 4.78a.75.75 0 0 1 0-1.06Z"></path>
</svg></button>
    </div>
  </div>
</div>
      <div data-view-component="true" class="Overlay-body">        <!-- '"` --><!-- </textarea></xmp> --></option></form><form id="code-search-feedback-form" data-turbo="false" action="/search/feedback" accept-charset="UTF-8" method="post"><input type="hidden" data-csrf="true" name="authenticity_token" value="BZzqwScpFu77tuk7DUh7Oa/85SL5LnjOd5rTfPFESVDpuolCVC1XsdbU8JMcrpFX485qQKVLsi8sXxifXvuvVw==" />
          <p>We read every piece of feedback, and take your input very seriously.</p>
          <textarea name="feedback" class="form-control width-full mb-2" style="height: 120px" id="feedback"></textarea>
          <input name="include_email" id="include_email" aria-label="Include my email address so I can be contacted" class="form-control mr-2" type="checkbox">
          <label for="include_email" style="font-weight: normal">Include my email address so I can be contacted</label>
</form></div>
      <div data-view-component="true" class="Overlay-footer Overlay-footer--alignEnd">          <button data-close-dialog-id="feedback-dialog" type="button" data-view-component="true" class="btn">    Cancel
</button>
          <button form="code-search-feedback-form" data-action="click:qbsearch-input#submitFeedback" type="submit" data-view-component="true" class="btn-primary btn">    Submit feedback
</button>
</div>
</modal-dialog></div>

    <custom-scopes data-target="qbsearch-input.customScopesManager">
    
<div class="Overlay--hidden Overlay-backdrop--center" data-modal-dialog-overlay>
  <modal-dialog data-target="custom-scopes.customScopesModalDialog" data-action="close:qbsearch-input#handleDialogClose cancel:qbsearch-input#handleDialogClose" role="dialog" id="custom-scopes-dialog" aria-modal="true" aria-disabled="true" aria-describedby="custom-scopes-dialog-title custom-scopes-dialog-description" data-view-component="true" class="Overlay Overlay-whenNarrow Overlay--size-medium Overlay--motion-scaleFade">
    <div data-view-component="true" class="Overlay-header Overlay-header--divided">
  <div class="Overlay-headerContentWrap">
    <div class="Overlay-titleWrap">
      <h1 class="Overlay-title " id="custom-scopes-dialog-title">
        Saved searches
      </h1>
        <h2 id="custom-scopes-dialog-description" class="Overlay-description">Use saved searches to filter your results more quickly</h2>
    </div>
    <div class="Overlay-actionWrap">
      <button data-close-dialog-id="custom-scopes-dialog" aria-label="Close" type="button" data-view-component="true" class="close-button Overlay-closeButton"><svg aria-hidden="true" height="16" viewBox="0 0 16 16" version="1.1" width="16" data-view-component="true" class="octicon octicon-x">
    <path d="M3.72 3.72a.75.75 0 0 1 1.06 0L8 6.94l3.22-3.22a.749.749 0 0 1 1.275.326.749.749 0 0 1-.215.734L9.06 8l3.22 3.22a.749.749 0 0 1-.326 1.275.749.749 0 0 1-.734-.215L8 9.06l-3.22 3.22a.751.751 0 0 1-1.042-.018.751.751 0 0 1-.018-1.042L6.94 8 3.72 4.78a.75.75 0 0 1 0-1.06Z"></path>
</svg></button>
    </div>
  </div>
</div>
      <div data-view-component="true" class="Overlay-body">        <div data-target="custom-scopes.customScopesModalDialogFlash"></div>

        <div hidden class="create-custom-scope-form" data-target="custom-scopes.createCustomScopeForm">
        <!-- '"` --><!-- </textarea></xmp> --></option></form><form id="custom-scopes-dialog-form" data-turbo="false" action="/search/custom_scopes" accept-charset="UTF-8" method="post"><input type="hidden" data-csrf="true" name="authenticity_token" value="6JiRSvIOT61Bxb1etjik8hcaMdzVFthZyTlFQYvrBJ0HeekU9HuQ5kT4IRay+UAIG26TjNAA2eJKWq7E7mcxEQ==" />
          <div data-target="custom-scopes.customScopesModalDialogFlash"></div>

          <input type="hidden" id="custom_scope_id" name="custom_scope_id" data-target="custom-scopes.customScopesIdField">

          <div class="form-group">
            <label for="custom_scope_name">Name</label>
            <auto-check src="/search/custom_scopes/check_name" required>
              <input
                type="text"
                name="custom_scope_name"
                id="custom_scope_name"
                data-target="custom-scopes.customScopesNameField"
                class="form-control"
                autocomplete="off"
                placeholder="github-ruby"
                required
                maxlength="50">
              <input type="hidden" data-csrf="true" value="6EHr9173ruSAKbmPYKtO5gwfBuVkQ1kriCyD9w602dNfu1pIBUCddevdW1zBhbSX3jioaP1dvLY5Iw/lEOpojw==" />
            </auto-check>
          </div>

          <div class="form-group">
            <label for="custom_scope_query">Query</label>
            <input
              type="text"
              name="custom_scope_query"
              id="custom_scope_query"
              data-target="custom-scopes.customScopesQueryField"
              class="form-control"
              autocomplete="off"
              placeholder="(repo:mona/a OR repo:mona/b) AND lang:python"
              required
              maxlength="500">
          </div>

          <p class="text-small color-fg-muted">
            To see all available qualifiers, see our <a href="https://docs.github.com/en/search-github/github-code-search/understanding-github-code-search-syntax">documentation</a>.
          </p>
</form>        </div>

        <div data-target="custom-scopes.manageCustomScopesForm">
          <div data-target="custom-scopes.list"></div>
        </div>

</div>
      <div data-view-component="true" class="Overlay-footer Overlay-footer--alignEnd Overlay-footer--divided">          <button data-action="click:custom-scopes#customScopesCancel" type="button" data-view-component="true" class="btn">    Cancel
</button>
          <button form="custom-scopes-dialog-form" data-action="click:custom-scopes#customScopesSubmit" data-target="custom-scopes.customScopesSubmitButton" type="submit" data-view-component="true" class="btn-primary btn">    Create saved search
</button>
</div>
</modal-dialog></div>
    </custom-scopes>
  </div>
</qbsearch-input><input type="hidden" data-csrf="true" class="js-data-jump-to-suggestions-path-csrf" value="282JbWw/n+Y1j0eI7driVLDZSzR9GL8MVtYGG3PnQij0WsvoaFTcEWHpLu5+AmTVTCBMJwT5koy/fF7xJXeMlQ==" />


          <div class="position-relative mr-lg-3 d-lg-inline-block">
            <a href="/login?return_to=https%3A%2F%2Fgithub.com%2FRoshni-M9296%2FAssignment-on-Classification%2Fblob%2Fmain%2FAssignment%2520on%2520Classification.ipynb"
              class="HeaderMenu-link HeaderMenu-link--sign-in flex-shrink-0 no-underline d-block d-lg-inline-block border border-lg-0 rounded rounded-lg-0 p-2 p-lg-0"
              data-hydro-click="{&quot;event_type&quot;:&quot;authentication.click&quot;,&quot;payload&quot;:{&quot;location_in_page&quot;:&quot;site header menu&quot;,&quot;repository_id&quot;:null,&quot;auth_type&quot;:&quot;SIGN_UP&quot;,&quot;originating_url&quot;:&quot;https://github.com/Roshni-M9296/Assignment-on-Classification/blob/main/Assignment%20on%20Classification.ipynb&quot;,&quot;user_id&quot;:null}}" data-hydro-click-hmac="7d5f532a39711fac94bb34fc302d8766c98fdc68709b1530bf24b6cf92776759"
              data-ga-click="(Logged out) Header, clicked Sign in, text:sign-in">
              Sign in
            </a>
          </div>

            <a href="/signup?ref_cta=Sign+up&amp;ref_loc=header+logged+out&amp;ref_page=%2F%3Cuser-name%3E%2F%3Crepo-name%3E%2Fblob%2Fshow&amp;source=header-repo&amp;source_repo=Roshni-M9296%2FAssignment-on-Classification"
              class="HeaderMenu-link HeaderMenu-link--sign-up flex-shrink-0 d-none d-lg-inline-block no-underline border color-border-default rounded px-2 py-1"
              data-hydro-click="{&quot;event_type&quot;:&quot;authentication.click&quot;,&quot;payload&quot;:{&quot;location_in_page&quot;:&quot;site header menu&quot;,&quot;repository_id&quot;:null,&quot;auth_type&quot;:&quot;SIGN_UP&quot;,&quot;originating_url&quot;:&quot;https://github.com/Roshni-M9296/Assignment-on-Classification/blob/main/Assignment%20on%20Classification.ipynb&quot;,&quot;user_id&quot;:null}}" data-hydro-click-hmac="7d5f532a39711fac94bb34fc302d8766c98fdc68709b1530bf24b6cf92776759"
              data-analytics-event="{&quot;category&quot;:&quot;Sign up&quot;,&quot;action&quot;:&quot;click to sign up for account&quot;,&quot;label&quot;:&quot;ref_page:/&lt;user-name&gt;/&lt;repo-name&gt;/blob/show;ref_cta:Sign up;ref_loc:header logged out&quot;}"
            >
              Sign up
            </a>
        </div>
      </div>
    </div>
  </div>
</header>

      <div hidden="hidden" data-view-component="true" class="js-stale-session-flash flash flash-warn mb-3">
  
        <svg aria-hidden="true" height="16" viewBox="0 0 16 16" version="1.1" width="16" data-view-component="true" class="octicon octicon-alert">
    <path d="M6.457 1.047c.659-1.234 2.427-1.234 3.086 0l6.082 11.378A1.75 1.75 0 0 1 14.082 15H1.918a1.75 1.75 0 0 1-1.543-2.575Zm1.763.707a.25.25 0 0 0-.44 0L1.698 13.132a.25.25 0 0 0 .22.368h12.164a.25.25 0 0 0 .22-.368Zm.53 3.996v2.5a.75.75 0 0 1-1.5 0v-2.5a.75.75 0 0 1 1.5 0ZM9 11a1 1 0 1 1-2 0 1 1 0 0 1 2 0Z"></path>
</svg>
        <span class="js-stale-session-flash-signed-in" hidden>You signed in with another tab or window. <a href="">Reload</a> to refresh your session.</span>
        <span class="js-stale-session-flash-signed-out" hidden>You signed out in another tab or window. <a href="">Reload</a> to refresh your session.</span>
        <span class="js-stale-session-flash-switched" hidden>You switched accounts on another tab or window. <a href="">Reload</a> to refresh your session.</span>

    <button class="flash-close js-flash-close" type="button" aria-label="Close">
      <svg aria-hidden="true" height="16" viewBox="0 0 16 16" version="1.1" width="16" data-view-component="true" class="octicon octicon-x">
    <path d="M3.72 3.72a.75.75 0 0 1 1.06 0L8 6.94l3.22-3.22a.749.749 0 0 1 1.275.326.749.749 0 0 1-.215.734L9.06 8l3.22 3.22a.749.749 0 0 1-.326 1.275.749.749 0 0 1-.734-.215L8 9.06l-3.22 3.22a.751.751 0 0 1-1.042-.018.751.751 0 0 1-.018-1.042L6.94 8 3.72 4.78a.75.75 0 0 1 0-1.06Z"></path>
</svg>
    </button>

  
</div>
    </div>

  <div id="start-of-content" class="show-on-focus"></div>








    <div id="js-flash-container" data-turbo-replace>





  <template class="js-flash-template">
    
<div class="flash flash-full   {{ className }}">
  <div class="px-2" >
    <button autofocus class="flash-close js-flash-close" type="button" aria-label="Dismiss this message">
      <svg aria-hidden="true" height="16" viewBox="0 0 16 16" version="1.1" width="16" data-view-component="true" class="octicon octicon-x">
    <path d="M3.72 3.72a.75.75 0 0 1 1.06 0L8 6.94l3.22-3.22a.749.749 0 0 1 1.275.326.749.749 0 0 1-.215.734L9.06 8l3.22 3.22a.749.749 0 0 1-.326 1.275.749.749 0 0 1-.734-.215L8 9.06l-3.22 3.22a.751.751 0 0 1-1.042-.018.751.751 0 0 1-.018-1.042L6.94 8 3.72 4.78a.75.75 0 0 1 0-1.06Z"></path>
</svg>
    </button>
    <div aria-atomic="true" role="alert" class="js-flash-alert">
      
      <div>{{ message }}</div>

    </div>
  </div>
</div>
  </template>
</div>


    
    <include-fragment class="js-notification-shelf-include-fragment" data-base-src="https://github.com/notifications/beta/shelf"></include-fragment>






  <div
    class="application-main "
    data-commit-hovercards-enabled
    data-discussion-hovercards-enabled
    data-issue-and-pr-hovercards-enabled
  >
        <div itemscope itemtype="http://schema.org/SoftwareSourceCode" class="">
    <main id="js-repo-pjax-container" >
      
      






  
  <div id="repository-container-header"  class="pt-3 hide-full-screen" style="background-color: var(--color-page-header-bg);" data-turbo-replace>

      <div class="d-flex flex-wrap flex-justify-end mb-3  px-3 px-md-4 px-lg-5" style="gap: 1rem;">

        <div class="flex-auto min-width-0 width-fit mr-3">
            
  <div class=" d-flex flex-wrap flex-items-center wb-break-word f3 text-normal">
      <svg aria-hidden="true" height="16" viewBox="0 0 16 16" version="1.1" width="16" data-view-component="true" class="octicon octicon-repo color-fg-muted mr-2">
    <path d="M2 2.5A2.5 2.5 0 0 1 4.5 0h8.75a.75.75 0 0 1 .75.75v12.5a.75.75 0 0 1-.75.75h-2.5a.75.75 0 0 1 0-1.5h1.75v-2h-8a1 1 0 0 0-.714 1.7.75.75 0 1 1-1.072 1.05A2.495 2.495 0 0 1 2 11.5Zm10.5-1h-8a1 1 0 0 0-1 1v6.708A2.486 2.486 0 0 1 4.5 9h8ZM5 12.25a.25.25 0 0 1 .25-.25h3.5a.25.25 0 0 1 .25.25v3.25a.25.25 0 0 1-.4.2l-1.45-1.087a.249.249 0 0 0-.3 0L5.4 15.7a.25.25 0 0 1-.4-.2Z"></path>
</svg>
    
    <span class="author flex-self-stretch" itemprop="author">
      <a class="url fn" rel="author" data-hovercard-type="user" data-hovercard-url="/users/Roshni-M9296/hovercard" data-octo-click="hovercard-link-click" data-octo-dimensions="link_type:self" href="/Roshni-M9296">
        Roshni-M9296
</a>    </span>
    <span class="mx-1 flex-self-stretch color-fg-muted">/</span>
    <strong itemprop="name" class="mr-2 flex-self-stretch">
      <a data-pjax="#repo-content-pjax-container" data-turbo-frame="repo-content-turbo-frame" href="/Roshni-M9296/Assignment-on-Classification">Assignment-on-Classification</a>
    </strong>

    <span></span><span class="Label Label--secondary v-align-middle mr-1">Public</span>
  </div>


        </div>

        <div id="repository-details-container" data-turbo-replace>
            <ul class="pagehead-actions flex-shrink-0 d-none d-md-inline" style="padding: 2px 0;">
    
      

  <li>
            <a href="/login?return_to=%2FRoshni-M9296%2FAssignment-on-Classification" rel="nofollow" data-hydro-click="{&quot;event_type&quot;:&quot;authentication.click&quot;,&quot;payload&quot;:{&quot;location_in_page&quot;:&quot;notification subscription menu watch&quot;,&quot;repository_id&quot;:null,&quot;auth_type&quot;:&quot;LOG_IN&quot;,&quot;originating_url&quot;:&quot;https://github.com/Roshni-M9296/Assignment-on-Classification/blob/main/Assignment%20on%20Classification.ipynb&quot;,&quot;user_id&quot;:null}}" data-hydro-click-hmac="56bf971d1531507c750909b335f49a9d941ee3864f122eede9b9dd66b440d6f0" aria-label="You must be signed in to change notification settings" data-view-component="true" class="tooltipped tooltipped-s btn-sm btn">    <svg aria-hidden="true" height="16" viewBox="0 0 16 16" version="1.1" width="16" data-view-component="true" class="octicon octicon-bell mr-2">
    <path d="M8 16a2 2 0 0 0 1.985-1.75c.017-.137-.097-.25-.235-.25h-3.5c-.138 0-.252.113-.235.25A2 2 0 0 0 8 16ZM3 5a5 5 0 0 1 10 0v2.947c0 .05.015.098.042.139l1.703 2.555A1.519 1.519 0 0 1 13.482 13H2.518a1.516 1.516 0 0 1-1.263-2.36l1.703-2.554A.255.255 0 0 0 3 7.947Zm5-3.5A3.5 3.5 0 0 0 4.5 5v2.947c0 .346-.102.683-.294.97l-1.703 2.556a.017.017 0 0 0-.003.01l.001.006c0 .002.002.004.004.006l.006.004.007.001h10.964l.007-.001.006-.004.004-.006.001-.007a.017.017 0 0 0-.003-.01l-1.703-2.554a1.745 1.745 0 0 1-.294-.97V5A3.5 3.5 0 0 0 8 1.5Z"></path>
</svg>Notifications
</a>
  </li>

  <li>
          <a icon="repo-forked" id="fork-button" href="/login?return_to=%2FRoshni-M9296%2FAssignment-on-Classification" rel="nofollow" data-hydro-click="{&quot;event_type&quot;:&quot;authentication.click&quot;,&quot;payload&quot;:{&quot;location_in_page&quot;:&quot;repo details fork button&quot;,&quot;repository_id&quot;:668848867,&quot;auth_type&quot;:&quot;LOG_IN&quot;,&quot;originating_url&quot;:&quot;https://github.com/Roshni-M9296/Assignment-on-Classification/blob/main/Assignment%20on%20Classification.ipynb&quot;,&quot;user_id&quot;:null}}" data-hydro-click-hmac="30ffcd8b8682372ecf3f5b53c091ec27dd0c5443eb4ed4a65d3fe211700444c4" data-view-component="true" class="btn-sm btn">    <svg aria-hidden="true" height="16" viewBox="0 0 16 16" version="1.1" width="16" data-view-component="true" class="octicon octicon-repo-forked mr-2">
    <path d="M5 5.372v.878c0 .414.336.75.75.75h4.5a.75.75 0 0 0 .75-.75v-.878a2.25 2.25 0 1 1 1.5 0v.878a2.25 2.25 0 0 1-2.25 2.25h-1.5v2.128a2.251 2.251 0 1 1-1.5 0V8.5h-1.5A2.25 2.25 0 0 1 3.5 6.25v-.878a2.25 2.25 0 1 1 1.5 0ZM5 3.25a.75.75 0 1 0-1.5 0 .75.75 0 0 0 1.5 0Zm6.75.75a.75.75 0 1 0 0-1.5.75.75 0 0 0 0 1.5Zm-3 8.75a.75.75 0 1 0-1.5 0 .75.75 0 0 0 1.5 0Z"></path>
</svg>Fork
    <span id="repo-network-counter" data-pjax-replace="true" data-turbo-replace="true" title="0" data-view-component="true" class="Counter">0</span>
</a>
  </li>

  <li>
        <div data-view-component="true" class="BtnGroup d-flex">
        <a href="/login?return_to=%2FRoshni-M9296%2FAssignment-on-Classification" rel="nofollow" data-hydro-click="{&quot;event_type&quot;:&quot;authentication.click&quot;,&quot;payload&quot;:{&quot;location_in_page&quot;:&quot;star button&quot;,&quot;repository_id&quot;:668848867,&quot;auth_type&quot;:&quot;LOG_IN&quot;,&quot;originating_url&quot;:&quot;https://github.com/Roshni-M9296/Assignment-on-Classification/blob/main/Assignment%20on%20Classification.ipynb&quot;,&quot;user_id&quot;:null}}" data-hydro-click-hmac="61964ce1ab8f594f81c7ce3d05149cb300a9c5ea99836489992e050a16f796cd" aria-label="You must be signed in to star a repository" data-view-component="true" class="tooltipped tooltipped-s btn-sm btn BtnGroup-item">    <svg aria-hidden="true" height="16" viewBox="0 0 16 16" version="1.1" width="16" data-view-component="true" class="octicon octicon-star v-align-text-bottom d-inline-block mr-2">
    <path d="M8 .25a.75.75 0 0 1 .673.418l1.882 3.815 4.21.612a.75.75 0 0 1 .416 1.279l-3.046 2.97.719 4.192a.751.751 0 0 1-1.088.791L8 12.347l-3.766 1.98a.75.75 0 0 1-1.088-.79l.72-4.194L.818 6.374a.75.75 0 0 1 .416-1.28l4.21-.611L7.327.668A.75.75 0 0 1 8 .25Zm0 2.445L6.615 5.5a.75.75 0 0 1-.564.41l-3.097.45 2.24 2.184a.75.75 0 0 1 .216.664l-.528 3.084 2.769-1.456a.75.75 0 0 1 .698 0l2.77 1.456-.53-3.084a.75.75 0 0 1 .216-.664l2.24-2.183-3.096-.45a.75.75 0 0 1-.564-.41L8 2.694Z"></path>
</svg><span data-view-component="true" class="d-inline">
          Star
</span>          <span id="repo-stars-counter-star" aria-label="0 users starred this repository" data-singular-suffix="user starred this repository" data-plural-suffix="users starred this repository" data-turbo-replace="true" title="0" data-view-component="true" class="Counter js-social-count">0</span>
</a>        <button aria-label="You must be signed in to add this repository to a list" type="button" disabled="disabled" data-view-component="true" class="btn-sm btn BtnGroup-item px-2">    <svg aria-hidden="true" height="16" viewBox="0 0 16 16" version="1.1" width="16" data-view-component="true" class="octicon octicon-triangle-down">
    <path d="m4.427 7.427 3.396 3.396a.25.25 0 0 0 .354 0l3.396-3.396A.25.25 0 0 0 11.396 7H4.604a.25.25 0 0 0-.177.427Z"></path>
</svg>
</button></div>
  </li>


    

</ul>

        </div>
      </div>

        <div id="responsive-meta-container" data-turbo-replace>
</div>


          <nav data-pjax="#js-repo-pjax-container" aria-label="Repository" data-view-component="true" class="js-repo-nav js-sidenav-container-pjax js-responsive-underlinenav overflow-hidden UnderlineNav px-3 px-md-4 px-lg-5">

  <ul data-view-component="true" class="UnderlineNav-body list-style-none">
      <li data-view-component="true" class="d-inline-flex">
  <a id="code-tab" href="/Roshni-M9296/Assignment-on-Classification" data-tab-item="i0code-tab" data-selected-links="repo_source repo_downloads repo_commits repo_releases repo_tags repo_branches repo_packages repo_deployments /Roshni-M9296/Assignment-on-Classification" data-pjax="#repo-content-pjax-container" data-turbo-frame="repo-content-turbo-frame" data-hotkey="g c" data-analytics-event="{&quot;category&quot;:&quot;Underline navbar&quot;,&quot;action&quot;:&quot;Click tab&quot;,&quot;label&quot;:&quot;Code&quot;,&quot;target&quot;:&quot;UNDERLINE_NAV.TAB&quot;}" aria-current="page" data-view-component="true" class="UnderlineNav-item no-wrap js-responsive-underlinenav-item js-selected-navigation-item selected">
    
              <svg aria-hidden="true" height="16" viewBox="0 0 16 16" version="1.1" width="16" data-view-component="true" class="octicon octicon-code UnderlineNav-octicon d-none d-sm-inline">
    <path d="m11.28 3.22 4.25 4.25a.75.75 0 0 1 0 1.06l-4.25 4.25a.749.749 0 0 1-1.275-.326.749.749 0 0 1 .215-.734L13.94 8l-3.72-3.72a.749.749 0 0 1 .326-1.275.749.749 0 0 1 .734.215Zm-6.56 0a.751.751 0 0 1 1.042.018.751.751 0 0 1 .018 1.042L2.06 8l3.72 3.72a.749.749 0 0 1-.326 1.275.749.749 0 0 1-.734-.215L.47 8.53a.75.75 0 0 1 0-1.06Z"></path>
</svg>
        <span data-content="Code">Code</span>
          <span id="code-repo-tab-count" data-pjax-replace="" data-turbo-replace="" title="Not available" data-view-component="true" class="Counter"></span>


    
</a></li>
      <li data-view-component="true" class="d-inline-flex">
  <a id="issues-tab" href="/Roshni-M9296/Assignment-on-Classification/issues" data-tab-item="i1issues-tab" data-selected-links="repo_issues repo_labels repo_milestones /Roshni-M9296/Assignment-on-Classification/issues" data-pjax="#repo-content-pjax-container" data-turbo-frame="repo-content-turbo-frame" data-hotkey="g i" data-analytics-event="{&quot;category&quot;:&quot;Underline navbar&quot;,&quot;action&quot;:&quot;Click tab&quot;,&quot;label&quot;:&quot;Issues&quot;,&quot;target&quot;:&quot;UNDERLINE_NAV.TAB&quot;}" data-view-component="true" class="UnderlineNav-item no-wrap js-responsive-underlinenav-item js-selected-navigation-item">
    
              <svg aria-hidden="true" height="16" viewBox="0 0 16 16" version="1.1" width="16" data-view-component="true" class="octicon octicon-issue-opened UnderlineNav-octicon d-none d-sm-inline">
    <path d="M8 9.5a1.5 1.5 0 1 0 0-3 1.5 1.5 0 0 0 0 3Z"></path><path d="M8 0a8 8 0 1 1 0 16A8 8 0 0 1 8 0ZM1.5 8a6.5 6.5 0 1 0 13 0 6.5 6.5 0 0 0-13 0Z"></path>
</svg>
        <span data-content="Issues">Issues</span>
          <span id="issues-repo-tab-count" data-pjax-replace="" data-turbo-replace="" title="0" hidden="hidden" data-view-component="true" class="Counter">0</span>


    
</a></li>
      <li data-view-component="true" class="d-inline-flex">
  <a id="pull-requests-tab" href="/Roshni-M9296/Assignment-on-Classification/pulls" data-tab-item="i2pull-requests-tab" data-selected-links="repo_pulls checks /Roshni-M9296/Assignment-on-Classification/pulls" data-pjax="#repo-content-pjax-container" data-turbo-frame="repo-content-turbo-frame" data-hotkey="g p" data-analytics-event="{&quot;category&quot;:&quot;Underline navbar&quot;,&quot;action&quot;:&quot;Click tab&quot;,&quot;label&quot;:&quot;Pull requests&quot;,&quot;target&quot;:&quot;UNDERLINE_NAV.TAB&quot;}" data-view-component="true" class="UnderlineNav-item no-wrap js-responsive-underlinenav-item js-selected-navigation-item">
    
              <svg aria-hidden="true" height="16" viewBox="0 0 16 16" version="1.1" width="16" data-view-component="true" class="octicon octicon-git-pull-request UnderlineNav-octicon d-none d-sm-inline">
    <path d="M1.5 3.25a2.25 2.25 0 1 1 3 2.122v5.256a2.251 2.251 0 1 1-1.5 0V5.372A2.25 2.25 0 0 1 1.5 3.25Zm5.677-.177L9.573.677A.25.25 0 0 1 10 .854V2.5h1A2.5 2.5 0 0 1 13.5 5v5.628a2.251 2.251 0 1 1-1.5 0V5a1 1 0 0 0-1-1h-1v1.646a.25.25 0 0 1-.427.177L7.177 3.427a.25.25 0 0 1 0-.354ZM3.75 2.5a.75.75 0 1 0 0 1.5.75.75 0 0 0 0-1.5Zm0 9.5a.75.75 0 1 0 0 1.5.75.75 0 0 0 0-1.5Zm8.25.75a.75.75 0 1 0 1.5 0 .75.75 0 0 0-1.5 0Z"></path>
</svg>
        <span data-content="Pull requests">Pull requests</span>
          <span id="pull-requests-repo-tab-count" data-pjax-replace="" data-turbo-replace="" title="0" hidden="hidden" data-view-component="true" class="Counter">0</span>


    
</a></li>
      <li data-view-component="true" class="d-inline-flex">
  <a id="actions-tab" href="/Roshni-M9296/Assignment-on-Classification/actions" data-tab-item="i3actions-tab" data-selected-links="repo_actions /Roshni-M9296/Assignment-on-Classification/actions" data-pjax="#repo-content-pjax-container" data-turbo-frame="repo-content-turbo-frame" data-hotkey="g a" data-analytics-event="{&quot;category&quot;:&quot;Underline navbar&quot;,&quot;action&quot;:&quot;Click tab&quot;,&quot;label&quot;:&quot;Actions&quot;,&quot;target&quot;:&quot;UNDERLINE_NAV.TAB&quot;}" data-view-component="true" class="UnderlineNav-item no-wrap js-responsive-underlinenav-item js-selected-navigation-item">
    
              <svg aria-hidden="true" height="16" viewBox="0 0 16 16" version="1.1" width="16" data-view-component="true" class="octicon octicon-play UnderlineNav-octicon d-none d-sm-inline">
    <path d="M8 0a8 8 0 1 1 0 16A8 8 0 0 1 8 0ZM1.5 8a6.5 6.5 0 1 0 13 0 6.5 6.5 0 0 0-13 0Zm4.879-2.773 4.264 2.559a.25.25 0 0 1 0 .428l-4.264 2.559A.25.25 0 0 1 6 10.559V5.442a.25.25 0 0 1 .379-.215Z"></path>
</svg>
        <span data-content="Actions">Actions</span>
          <span id="actions-repo-tab-count" data-pjax-replace="" data-turbo-replace="" title="Not available" data-view-component="true" class="Counter"></span>


    
</a></li>
      <li data-view-component="true" class="d-inline-flex">
  <a id="projects-tab" href="/Roshni-M9296/Assignment-on-Classification/projects" data-tab-item="i4projects-tab" data-selected-links="repo_projects new_repo_project repo_project /Roshni-M9296/Assignment-on-Classification/projects" data-pjax="#repo-content-pjax-container" data-turbo-frame="repo-content-turbo-frame" data-hotkey="g b" data-analytics-event="{&quot;category&quot;:&quot;Underline navbar&quot;,&quot;action&quot;:&quot;Click tab&quot;,&quot;label&quot;:&quot;Projects&quot;,&quot;target&quot;:&quot;UNDERLINE_NAV.TAB&quot;}" data-view-component="true" class="UnderlineNav-item no-wrap js-responsive-underlinenav-item js-selected-navigation-item">
    
              <svg aria-hidden="true" height="16" viewBox="0 0 16 16" version="1.1" width="16" data-view-component="true" class="octicon octicon-table UnderlineNav-octicon d-none d-sm-inline">
    <path d="M0 1.75C0 .784.784 0 1.75 0h12.5C15.216 0 16 .784 16 1.75v12.5A1.75 1.75 0 0 1 14.25 16H1.75A1.75 1.75 0 0 1 0 14.25ZM6.5 6.5v8h7.75a.25.25 0 0 0 .25-.25V6.5Zm8-1.5V1.75a.25.25 0 0 0-.25-.25H6.5V5Zm-13 1.5v7.75c0 .138.112.25.25.25H5v-8ZM5 5V1.5H1.75a.25.25 0 0 0-.25.25V5Z"></path>
</svg>
        <span data-content="Projects">Projects</span>
          <span id="projects-repo-tab-count" data-pjax-replace="" data-turbo-replace="" title="0" hidden="hidden" data-view-component="true" class="Counter">0</span>


    
</a></li>
      <li data-view-component="true" class="d-inline-flex">
  <a id="security-tab" href="/Roshni-M9296/Assignment-on-Classification/security" data-tab-item="i5security-tab" data-selected-links="security overview alerts policy token_scanning code_scanning /Roshni-M9296/Assignment-on-Classification/security" data-pjax="#repo-content-pjax-container" data-turbo-frame="repo-content-turbo-frame" data-hotkey="g s" data-analytics-event="{&quot;category&quot;:&quot;Underline navbar&quot;,&quot;action&quot;:&quot;Click tab&quot;,&quot;label&quot;:&quot;Security&quot;,&quot;target&quot;:&quot;UNDERLINE_NAV.TAB&quot;}" data-view-component="true" class="UnderlineNav-item no-wrap js-responsive-underlinenav-item js-selected-navigation-item">
    
              <svg aria-hidden="true" height="16" viewBox="0 0 16 16" version="1.1" width="16" data-view-component="true" class="octicon octicon-shield UnderlineNav-octicon d-none d-sm-inline">
    <path d="M7.467.133a1.748 1.748 0 0 1 1.066 0l5.25 1.68A1.75 1.75 0 0 1 15 3.48V7c0 1.566-.32 3.182-1.303 4.682-.983 1.498-2.585 2.813-5.032 3.855a1.697 1.697 0 0 1-1.33 0c-2.447-1.042-4.049-2.357-5.032-3.855C1.32 10.182 1 8.566 1 7V3.48a1.75 1.75 0 0 1 1.217-1.667Zm.61 1.429a.25.25 0 0 0-.153 0l-5.25 1.68a.25.25 0 0 0-.174.238V7c0 1.358.275 2.666 1.057 3.86.784 1.194 2.121 2.34 4.366 3.297a.196.196 0 0 0 .154 0c2.245-.956 3.582-2.104 4.366-3.298C13.225 9.666 13.5 8.36 13.5 7V3.48a.251.251 0 0 0-.174-.237l-5.25-1.68ZM8.75 4.75v3a.75.75 0 0 1-1.5 0v-3a.75.75 0 0 1 1.5 0ZM9 10.5a1 1 0 1 1-2 0 1 1 0 0 1 2 0Z"></path>
</svg>
        <span data-content="Security">Security</span>
          <include-fragment src="/Roshni-M9296/Assignment-on-Classification/security/overall-count" accept="text/fragment+html"></include-fragment>

    
</a></li>
      <li data-view-component="true" class="d-inline-flex">
  <a id="insights-tab" href="/Roshni-M9296/Assignment-on-Classification/pulse" data-tab-item="i6insights-tab" data-selected-links="repo_graphs repo_contributors dependency_graph dependabot_updates pulse people community /Roshni-M9296/Assignment-on-Classification/pulse" data-pjax="#repo-content-pjax-container" data-turbo-frame="repo-content-turbo-frame" data-analytics-event="{&quot;category&quot;:&quot;Underline navbar&quot;,&quot;action&quot;:&quot;Click tab&quot;,&quot;label&quot;:&quot;Insights&quot;,&quot;target&quot;:&quot;UNDERLINE_NAV.TAB&quot;}" data-view-component="true" class="UnderlineNav-item no-wrap js-responsive-underlinenav-item js-selected-navigation-item">
    
              <svg aria-hidden="true" height="16" viewBox="0 0 16 16" version="1.1" width="16" data-view-component="true" class="octicon octicon-graph UnderlineNav-octicon d-none d-sm-inline">
    <path d="M1.5 1.75V13.5h13.75a.75.75 0 0 1 0 1.5H.75a.75.75 0 0 1-.75-.75V1.75a.75.75 0 0 1 1.5 0Zm14.28 2.53-5.25 5.25a.75.75 0 0 1-1.06 0L7 7.06 4.28 9.78a.751.751 0 0 1-1.042-.018.751.751 0 0 1-.018-1.042l3.25-3.25a.75.75 0 0 1 1.06 0L10 7.94l4.72-4.72a.751.751 0 0 1 1.042.018.751.751 0 0 1 .018 1.042Z"></path>
</svg>
        <span data-content="Insights">Insights</span>
          <span id="insights-repo-tab-count" data-pjax-replace="" data-turbo-replace="" title="Not available" data-view-component="true" class="Counter"></span>


    
</a></li>
</ul>
    <div style="visibility:hidden;" data-view-component="true" class="UnderlineNav-actions js-responsive-underlinenav-overflow position-absolute pr-3 pr-md-4 pr-lg-5 right-0">        <details data-view-component="true" class="details-overlay details-reset position-relative">
    <summary role="button" data-view-component="true">          <div class="UnderlineNav-item mr-0 border-0">
            <svg aria-hidden="true" height="16" viewBox="0 0 16 16" version="1.1" width="16" data-view-component="true" class="octicon octicon-kebab-horizontal">
    <path d="M8 9a1.5 1.5 0 1 0 0-3 1.5 1.5 0 0 0 0 3ZM1.5 9a1.5 1.5 0 1 0 0-3 1.5 1.5 0 0 0 0 3Zm13 0a1.5 1.5 0 1 0 0-3 1.5 1.5 0 0 0 0 3Z"></path>
</svg>
            <span class="sr-only">More</span>
          </div>
</summary>
    <details-menu role="menu" data-view-component="true" class="dropdown-menu dropdown-menu-sw">          <ul>
              <li data-menu-item="i0code-tab" hidden>
                <a role="menuitem" class="js-selected-navigation-item selected dropdown-item" aria-current="page" data-selected-links="repo_source repo_downloads repo_commits repo_releases repo_tags repo_branches repo_packages repo_deployments /Roshni-M9296/Assignment-on-Classification" href="/Roshni-M9296/Assignment-on-Classification">
                  Code
</a>              </li>
              <li data-menu-item="i1issues-tab" hidden>
                <a role="menuitem" class="js-selected-navigation-item dropdown-item" data-selected-links="repo_issues repo_labels repo_milestones /Roshni-M9296/Assignment-on-Classification/issues" href="/Roshni-M9296/Assignment-on-Classification/issues">
                  Issues
</a>              </li>
              <li data-menu-item="i2pull-requests-tab" hidden>
                <a role="menuitem" class="js-selected-navigation-item dropdown-item" data-selected-links="repo_pulls checks /Roshni-M9296/Assignment-on-Classification/pulls" href="/Roshni-M9296/Assignment-on-Classification/pulls">
                  Pull requests
</a>              </li>
              <li data-menu-item="i3actions-tab" hidden>
                <a role="menuitem" class="js-selected-navigation-item dropdown-item" data-selected-links="repo_actions /Roshni-M9296/Assignment-on-Classification/actions" href="/Roshni-M9296/Assignment-on-Classification/actions">
                  Actions
</a>              </li>
              <li data-menu-item="i4projects-tab" hidden>
                <a role="menuitem" class="js-selected-navigation-item dropdown-item" data-selected-links="repo_projects new_repo_project repo_project /Roshni-M9296/Assignment-on-Classification/projects" href="/Roshni-M9296/Assignment-on-Classification/projects">
                  Projects
</a>              </li>
              <li data-menu-item="i5security-tab" hidden>
                <a role="menuitem" class="js-selected-navigation-item dropdown-item" data-selected-links="security overview alerts policy token_scanning code_scanning /Roshni-M9296/Assignment-on-Classification/security" href="/Roshni-M9296/Assignment-on-Classification/security">
                  Security
</a>              </li>
              <li data-menu-item="i6insights-tab" hidden>
                <a role="menuitem" class="js-selected-navigation-item dropdown-item" data-selected-links="repo_graphs repo_contributors dependency_graph dependabot_updates pulse people community /Roshni-M9296/Assignment-on-Classification/pulse" href="/Roshni-M9296/Assignment-on-Classification/pulse">
                  Insights
</a>              </li>
          </ul>
</details-menu>
</details></div>
</nav>

  </div>

  



<turbo-frame id="repo-content-turbo-frame" target="_top" data-turbo-action="advance" class="">
    <div id="repo-content-pjax-container" class="repository-content " >
    


    
      
    





<react-app
  app-name="react-code-view"
  initial-path="/Roshni-M9296/Assignment-on-Classification/blob/main/Assignment%20on%20Classification.ipynb"
  style="min-height: calc(100vh - 62px)"
  data-ssr="false"
  data-lazy="false"
  data-alternate="false"
>
  
  <script type="application/json" data-target="react-app.embeddedData">{"payload":{"allShortcutsEnabled":false,"fileTree":{"":{"items":[{"name":"Assignment on Classification.ipynb","path":"Assignment on Classification.ipynb","contentType":"file"}],"totalCount":1}},"fileTreeProcessingTime":1.344728,"foldersToFetch":[],"reducedMotionEnabled":null,"repo":{"id":668848867,"defaultBranch":"main","name":"Assignment-on-Classification","ownerLogin":"Roshni-M9296","currentUserCanPush":false,"isFork":false,"isEmpty":false,"createdAt":"2023-07-20T18:24:04.000Z","ownerAvatar":"https://avatars.githubusercontent.com/u/127884447?v=4","public":true,"private":false,"isOrgOwned":false},"refInfo":{"name":"main","listCacheKey":"v0:1689878204.0","canEdit":false,"refType":"branch","currentOid":"ee17c400ce89b32f6993c7d47a5a713a067d1577"},"path":"Assignment on Classification.ipynb","currentUser":null,"blob":{"rawLines":["{"," \"cells\": [","  {","   \"cell_type\": \"markdown\",","   \"id\": \"008af277\",","   \"metadata\": {},","   \"source\": [","    \"### Reading dataset\"","   ]","  },","  {","   \"cell_type\": \"code\",","   \"execution_count\": 1,","   \"id\": \"27cd0509\",","   \"metadata\": {},","   \"outputs\": [],","   \"source\": [","    \"import numpy as np\\n\",","    \"import pandas as pd\\n\",","    \"import matplotlib.pyplot as plt\\n\",","    \"import seaborn as sns\"","   ]","  },","  {","   \"cell_type\": \"code\",","   \"execution_count\": 25,","   \"id\": \"3c2c8fa5\",","   \"metadata\": {},","   \"outputs\": [],","   \"source\": [","    \"data= pd.read_excel('iris.xls')\"","   ]","  },","  {","   \"cell_type\": \"code\",","   \"execution_count\": 26,","   \"id\": \"0e7e475f\",","   \"metadata\": {","    \"scrolled\": false","   },","   \"outputs\": [","    {","     \"data\": {","      \"text/html\": [","       \"\u003cdiv\u003e\\n\",","       \"\u003cstyle scoped\u003e\\n\",","       \"    .dataframe tbody tr th:only-of-type {\\n\",","       \"        vertical-align: middle;\\n\",","       \"    }\\n\",","       \"\\n\",","       \"    .dataframe tbody tr th {\\n\",","       \"        vertical-align: top;\\n\",","       \"    }\\n\",","       \"\\n\",","       \"    .dataframe thead th {\\n\",","       \"        text-align: right;\\n\",","       \"    }\\n\",","       \"\u003c/style\u003e\\n\",","       \"\u003ctable border=\\\"1\\\" class=\\\"dataframe\\\"\u003e\\n\",","       \"  \u003cthead\u003e\\n\",","       \"    \u003ctr style=\\\"text-align: right;\\\"\u003e\\n\",","       \"      \u003cth\u003e\u003c/th\u003e\\n\",","       \"      \u003cth\u003eSL\u003c/th\u003e\\n\",","       \"      \u003cth\u003eSW\u003c/th\u003e\\n\",","       \"      \u003cth\u003ePL\u003c/th\u003e\\n\",","       \"      \u003cth\u003ePW\u003c/th\u003e\\n\",","       \"      \u003cth\u003eClassification\u003c/th\u003e\\n\",","       \"    \u003c/tr\u003e\\n\",","       \"  \u003c/thead\u003e\\n\",","       \"  \u003ctbody\u003e\\n\",","       \"    \u003ctr\u003e\\n\",","       \"      \u003cth\u003e0\u003c/th\u003e\\n\",","       \"      \u003ctd\u003e5.1\u003c/td\u003e\\n\",","       \"      \u003ctd\u003e3.5\u003c/td\u003e\\n\",","       \"      \u003ctd\u003e1.4\u003c/td\u003e\\n\",","       \"      \u003ctd\u003e0.2\u003c/td\u003e\\n\",","       \"      \u003ctd\u003eIris-setosa\u003c/td\u003e\\n\",","       \"    \u003c/tr\u003e\\n\",","       \"    \u003ctr\u003e\\n\",","       \"      \u003cth\u003e1\u003c/th\u003e\\n\",","       \"      \u003ctd\u003e4.9\u003c/td\u003e\\n\",","       \"      \u003ctd\u003e3.0\u003c/td\u003e\\n\",","       \"      \u003ctd\u003e1.4\u003c/td\u003e\\n\",","       \"      \u003ctd\u003e0.2\u003c/td\u003e\\n\",","       \"      \u003ctd\u003eIris-setosa\u003c/td\u003e\\n\",","       \"    \u003c/tr\u003e\\n\",","       \"    \u003ctr\u003e\\n\",","       \"      \u003cth\u003e2\u003c/th\u003e\\n\",","       \"      \u003ctd\u003eNaN\u003c/td\u003e\\n\",","       \"      \u003ctd\u003e3.2\u003c/td\u003e\\n\",","       \"      \u003ctd\u003e1.3\u003c/td\u003e\\n\",","       \"      \u003ctd\u003e0.2\u003c/td\u003e\\n\",","       \"      \u003ctd\u003eIris-setosa\u003c/td\u003e\\n\",","       \"    \u003c/tr\u003e\\n\",","       \"    \u003ctr\u003e\\n\",","       \"      \u003cth\u003e3\u003c/th\u003e\\n\",","       \"      \u003ctd\u003e4.6\u003c/td\u003e\\n\",","       \"      \u003ctd\u003e3.1\u003c/td\u003e\\n\",","       \"      \u003ctd\u003e1.5\u003c/td\u003e\\n\",","       \"      \u003ctd\u003e0.2\u003c/td\u003e\\n\",","       \"      \u003ctd\u003eIris-setosa\u003c/td\u003e\\n\",","       \"    \u003c/tr\u003e\\n\",","       \"    \u003ctr\u003e\\n\",","       \"      \u003cth\u003e4\u003c/th\u003e\\n\",","       \"      \u003ctd\u003e5.0\u003c/td\u003e\\n\",","       \"      \u003ctd\u003e3.6\u003c/td\u003e\\n\",","       \"      \u003ctd\u003e1.4\u003c/td\u003e\\n\",","       \"      \u003ctd\u003e0.2\u003c/td\u003e\\n\",","       \"      \u003ctd\u003eIris-setosa\u003c/td\u003e\\n\",","       \"    \u003c/tr\u003e\\n\",","       \"  \u003c/tbody\u003e\\n\",","       \"\u003c/table\u003e\\n\",","       \"\u003c/div\u003e\"","      ],","      \"text/plain\": [","       \"    SL   SW   PL   PW Classification\\n\",","       \"0  5.1  3.5  1.4  0.2    Iris-setosa\\n\",","       \"1  4.9  3.0  1.4  0.2    Iris-setosa\\n\",","       \"2  NaN  3.2  1.3  0.2    Iris-setosa\\n\",","       \"3  4.6  3.1  1.5  0.2    Iris-setosa\\n\",","       \"4  5.0  3.6  1.4  0.2    Iris-setosa\"","      ]","     },","     \"execution_count\": 26,","     \"metadata\": {},","     \"output_type\": \"execute_result\"","    }","   ],","   \"source\": [","    \"data.head()\"","   ]","  },","  {","   \"cell_type\": \"markdown\",","   \"id\": \"88360ee1\",","   \"metadata\": {},","   \"source\": [","    \"### Preprocessing\"","   ]","  },","  {","   \"cell_type\": \"code\",","   \"execution_count\": 27,","   \"id\": \"54673dca\",","   \"metadata\": {},","   \"outputs\": [","    {","     \"data\": {","      \"text/plain\": [","       \"(150, 5)\"","      ]","     },","     \"execution_count\": 27,","     \"metadata\": {},","     \"output_type\": \"execute_result\"","    }","   ],","   \"source\": [","    \"data.shape\"","   ]","  },","  {","   \"cell_type\": \"code\",","   \"execution_count\": 28,","   \"id\": \"37d5fa8a\",","   \"metadata\": {},","   \"outputs\": [","    {","     \"data\": {","      \"text/plain\": [","       \"SL                7\\n\",","       \"SW                6\\n\",","       \"PL                6\\n\",","       \"PW                0\\n\",","       \"Classification    0\\n\",","       \"dtype: int64\"","      ]","     },","     \"execution_count\": 28,","     \"metadata\": {},","     \"output_type\": \"execute_result\"","    }","   ],","   \"source\": [","    \"data.isna().sum()\"","   ]","  },","  {","   \"cell_type\": \"code\",","   \"execution_count\": 29,","   \"id\": \"935ad25b\",","   \"metadata\": {},","   \"outputs\": [","    {","     \"data\": {","      \"image/png\": \"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\\n\",","      \"text/plain\": [","       \"\u003cFigure size 432x288 with 4 Axes\u003e\"","      ]","     },","     \"metadata\": {","      \"needs_background\": \"light\"","     },","     \"output_type\": \"display_data\"","    }","   ],","   \"source\": [","    \"data.hist()\\n\",","    \"plt.show()\"","   ]","  },","  {","   \"cell_type\": \"code\",","   \"execution_count\": 30,","   \"id\": \"8e151c44\",","   \"metadata\": {},","   \"outputs\": [","    {","     \"data\": {","      \"text/plain\": [","       \"Index(['SL', 'SW', 'PL', 'PW', 'Classification'], dtype='object')\"","      ]","     },","     \"execution_count\": 30,","     \"metadata\": {},","     \"output_type\": \"execute_result\"","    }","   ],","   \"source\": [","    \"data.columns\"","   ]","  },","  {","   \"cell_type\": \"code\",","   \"execution_count\": 31,","   \"id\": \"02e5123f\",","   \"metadata\": {},","   \"outputs\": [],","   \"source\": [","    \"for i in ['SL', 'SW', 'PL']:\\n\",","    \"    data[i]=data[i].fillna(data[i].median())\"","   ]","  },","  {","   \"cell_type\": \"code\",","   \"execution_count\": 32,","   \"id\": \"a072d647\",","   \"metadata\": {},","   \"outputs\": [","    {","     \"data\": {","      \"text/plain\": [","       \"SL                0\\n\",","       \"SW                0\\n\",","       \"PL                0\\n\",","       \"PW                0\\n\",","       \"Classification    0\\n\",","       \"dtype: int64\"","      ]","     },","     \"execution_count\": 32,","     \"metadata\": {},","     \"output_type\": \"execute_result\"","    }","   ],","   \"source\": [","    \"data.isna().sum()\"","   ]","  },","  {","   \"cell_type\": \"code\",","   \"execution_count\": 33,","   \"id\": \"8c0da3e9\",","   \"metadata\": {},","   \"outputs\": [","    {","     \"data\": {","      \"image/png\": \"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\\n\",","      \"text/plain\": [","       \"\u003cFigure size 720x576 with 4 Axes\u003e\"","      ]","     },","     \"metadata\": {","      \"needs_background\": \"light\"","     },","     \"output_type\": \"display_data\"","    }","   ],","   \"source\": [","    \"plt.figure(figsize=(10,8))\\n\",","    \"j=1\\n\",","    \"for i in ['SL', 'SW', 'PL', 'PW']:\\n\",","    \"    plt.title(i)\\n\",","    \"    plt.subplot(2,2,j)\\n\",","    \"    plt.boxplot(data[i])\\n\",","    \"    j=j+1\\n\",","    \"plt.show()\"","   ]","  },","  {","   \"cell_type\": \"code\",","   \"execution_count\": 37,","   \"id\": \"2d94438f\",","   \"metadata\": {},","   \"outputs\": [","    {","     \"data\": {","      \"text/plain\": [","       \"(150, 5)\"","      ]","     },","     \"execution_count\": 37,","     \"metadata\": {},","     \"output_type\": \"execute_result\"","    }","   ],","   \"source\": [","    \"#handling outliers\\n\",","    \"for i in ['PL']:\\n\",","    \"    Q1= np.percentile(data[i],25, interpolation='midpoint')\\n\",","    \"    Q2= np.percentile(data[i],50, interpolation='midpoint')\\n\",","    \"    Q3= np.percentile(data[i],75, interpolation='midpoint')\\n\",","    \"    if Q2== data[i].median():\\n\",","    \"        IQR= Q3-Q1\\n\",","    \"        low_lim= Q1-1.5*IQR\\n\",","    \"        up_lim= Q3+1.5*IQR\\n\",","    \"        outlier =[]\\n\",","    \"        for x in data[i]:\\n\",","    \"            if(x\u003clow_lim)or (x\u003eup_lim):\\n\",","    \"                outlier.append(x)\\n\",","    \"        ind2= data[i]\u003eup_lim\\n\",","    \"        ind3= data[i]\u003clow_lim\\n\",","    \"        indicestodrop2= data.loc[ind2].index\\n\",","    \"        indicestodrop3= data.loc[ind3].index\\n\",","    \"        data= data.drop(indicestodrop2)\\n\",","    \"        data= data.drop(indicestodrop3)\\n\",","    \"    else:\\n\",","    \"        print('check again')\\n\",","    \"data.shape\"","   ]","  },","  {","   \"cell_type\": \"markdown\",","   \"id\": \"b9f18b93\",","   \"metadata\": {},","   \"source\": [","    \"### Classification models\"","   ]","  },","  {","   \"cell_type\": \"code\",","   \"execution_count\": 46,","   \"id\": \"fca30537\",","   \"metadata\": {},","   \"outputs\": [","    {","     \"data\": {","      \"text/plain\": [","       \"Iris-setosa        50\\n\",","       \"Iris-versicolor    50\\n\",","       \"Iris-virginica     50\\n\",","       \"Name: Classification, dtype: int64\"","      ]","     },","     \"execution_count\": 46,","     \"metadata\": {},","     \"output_type\": \"execute_result\"","    }","   ],","   \"source\": [","    \"data['Classification'].value_counts()\"","   ]","  },","  {","   \"cell_type\": \"code\",","   \"execution_count\": 59,","   \"id\": \"95ee064b\",","   \"metadata\": {},","   \"outputs\": [","    {","     \"data\": {","      \"text/html\": [","       \"\u003cdiv\u003e\\n\",","       \"\u003cstyle scoped\u003e\\n\",","       \"    .dataframe tbody tr th:only-of-type {\\n\",","       \"        vertical-align: middle;\\n\",","       \"    }\\n\",","       \"\\n\",","       \"    .dataframe tbody tr th {\\n\",","       \"        vertical-align: top;\\n\",","       \"    }\\n\",","       \"\\n\",","       \"    .dataframe thead th {\\n\",","       \"        text-align: right;\\n\",","       \"    }\\n\",","       \"\u003c/style\u003e\\n\",","       \"\u003ctable border=\\\"1\\\" class=\\\"dataframe\\\"\u003e\\n\",","       \"  \u003cthead\u003e\\n\",","       \"    \u003ctr style=\\\"text-align: right;\\\"\u003e\\n\",","       \"      \u003cth\u003e\u003c/th\u003e\\n\",","       \"      \u003cth\u003eSL\u003c/th\u003e\\n\",","       \"      \u003cth\u003eSW\u003c/th\u003e\\n\",","       \"      \u003cth\u003ePL\u003c/th\u003e\\n\",","       \"      \u003cth\u003ePW\u003c/th\u003e\\n\",","       \"      \u003cth\u003eClassification\u003c/th\u003e\\n\",","       \"    \u003c/tr\u003e\\n\",","       \"  \u003c/thead\u003e\\n\",","       \"  \u003ctbody\u003e\\n\",","       \"    \u003ctr\u003e\\n\",","       \"      \u003cth\u003e0\u003c/th\u003e\\n\",","       \"      \u003ctd\u003e5.1\u003c/td\u003e\\n\",","       \"      \u003ctd\u003e3.5\u003c/td\u003e\\n\",","       \"      \u003ctd\u003e1.4\u003c/td\u003e\\n\",","       \"      \u003ctd\u003e0.2\u003c/td\u003e\\n\",","       \"      \u003ctd\u003e0\u003c/td\u003e\\n\",","       \"    \u003c/tr\u003e\\n\",","       \"    \u003ctr\u003e\\n\",","       \"      \u003cth\u003e1\u003c/th\u003e\\n\",","       \"      \u003ctd\u003e4.9\u003c/td\u003e\\n\",","       \"      \u003ctd\u003e3.0\u003c/td\u003e\\n\",","       \"      \u003ctd\u003e1.4\u003c/td\u003e\\n\",","       \"      \u003ctd\u003e0.2\u003c/td\u003e\\n\",","       \"      \u003ctd\u003e0\u003c/td\u003e\\n\",","       \"    \u003c/tr\u003e\\n\",","       \"    \u003ctr\u003e\\n\",","       \"      \u003cth\u003e2\u003c/th\u003e\\n\",","       \"      \u003ctd\u003e5.8\u003c/td\u003e\\n\",","       \"      \u003ctd\u003e3.2\u003c/td\u003e\\n\",","       \"      \u003ctd\u003e1.3\u003c/td\u003e\\n\",","       \"      \u003ctd\u003e0.2\u003c/td\u003e\\n\",","       \"      \u003ctd\u003e0\u003c/td\u003e\\n\",","       \"    \u003c/tr\u003e\\n\",","       \"    \u003ctr\u003e\\n\",","       \"      \u003cth\u003e3\u003c/th\u003e\\n\",","       \"      \u003ctd\u003e4.6\u003c/td\u003e\\n\",","       \"      \u003ctd\u003e3.1\u003c/td\u003e\\n\",","       \"      \u003ctd\u003e1.5\u003c/td\u003e\\n\",","       \"      \u003ctd\u003e0.2\u003c/td\u003e\\n\",","       \"      \u003ctd\u003e0\u003c/td\u003e\\n\",","       \"    \u003c/tr\u003e\\n\",","       \"    \u003ctr\u003e\\n\",","       \"      \u003cth\u003e4\u003c/th\u003e\\n\",","       \"      \u003ctd\u003e5.0\u003c/td\u003e\\n\",","       \"      \u003ctd\u003e3.6\u003c/td\u003e\\n\",","       \"      \u003ctd\u003e1.4\u003c/td\u003e\\n\",","       \"      \u003ctd\u003e0.2\u003c/td\u003e\\n\",","       \"      \u003ctd\u003e0\u003c/td\u003e\\n\",","       \"    \u003c/tr\u003e\\n\",","       \"  \u003c/tbody\u003e\\n\",","       \"\u003c/table\u003e\\n\",","       \"\u003c/div\u003e\"","      ],","      \"text/plain\": [","       \"    SL   SW   PL   PW  Classification\\n\",","       \"0  5.1  3.5  1.4  0.2               0\\n\",","       \"1  4.9  3.0  1.4  0.2               0\\n\",","       \"2  5.8  3.2  1.3  0.2               0\\n\",","       \"3  4.6  3.1  1.5  0.2               0\\n\",","       \"4  5.0  3.6  1.4  0.2               0\"","      ]","     },","     \"execution_count\": 59,","     \"metadata\": {},","     \"output_type\": \"execute_result\"","    }","   ],","   \"source\": [","    \"#subclass preprocessing\\n\",","    \"from sklearn.preprocessing import LabelEncoder\\n\",","    \"\\n\",","    \"#logistic regression can be used for multiple classes\\n\",","    \"le = LabelEncoder()\\n\",","    \"data['Classification']= le.fit_transform(data['Classification'])\\n\",","    \"\\n\",","    \"data.head()\"","   ]","  },","  {","   \"cell_type\": \"code\",","   \"execution_count\": 127,","   \"id\": \"8573d4d2\",","   \"metadata\": {},","   \"outputs\": [],","   \"source\": [","    \"X= data.drop('Classification', axis=1)\\n\",","    \"y= data['Classification']\"","   ]","  },","  {","   \"cell_type\": \"markdown\",","   \"id\": \"e16b9dc5\",","   \"metadata\": {},","   \"source\": [","    \"### Logistic Regression\"","   ]","  },","  {","   \"cell_type\": \"code\",","   \"execution_count\": 140,","   \"id\": \"9d8d4f61\",","   \"metadata\": {},","   \"outputs\": [","    {","     \"name\": \"stdout\",","     \"output_type\": \"stream\",","     \"text\": [","      \"[[14  1  0]\\n\",","      \" [ 0 11  0]\\n\",","      \" [ 0  0 12]]\\n\"","     ]","    }","   ],","   \"source\": [","    \"#for multiple class?, iterations\\n\",","    \"lr= LogisticRegression(multi_class='multinomial', max_iter=1000)\\n\",","    \"\\n\",","    \"model= lr.fit(X_train, y_train)\\n\",","    \"y_pred = model.predict(X_test)\\n\",","    \"\\n\",","    \"print(confusion_matrix(y_test, y_pred))\"","   ]","  },","  {","   \"cell_type\": \"code\",","   \"execution_count\": 144,","   \"id\": \"9d2c908f\",","   \"metadata\": {},","   \"outputs\": [","    {","     \"name\": \"stdout\",","     \"output_type\": \"stream\",","     \"text\": [","      \"0.9736842105263158\\n\"","     ]","    }","   ],","   \"source\": [","    \"from sklearn.metrics import accuracy_score, precision_score, recall_score, f1_score\\n\",","    \"print(accuracy_score(y_test, y_pred))\"","   ]","  },","  {","   \"cell_type\": \"code\",","   \"execution_count\": 63,","   \"id\": \"50e0bfe2\",","   \"metadata\": {","    \"scrolled\": true","   },","   \"outputs\": [","    {","     \"data\": {","      \"text/plain\": [","       \"0    50\\n\",","       \"1    50\\n\",","       \"2    50\\n\",","       \"Name: Classification, dtype: int64\"","      ]","     },","     \"execution_count\": 63,","     \"metadata\": {},","     \"output_type\": \"execute_result\"","    }","   ],","   \"source\": [","    \"data['Classification'].value_counts()\"","   ]","  },","  {","   \"cell_type\": \"markdown\",","   \"id\": \"44d470e8\",","   \"metadata\": {},","   \"source\": [","    \"### kNN\"","   ]","  },","  {","   \"cell_type\": \"code\",","   \"execution_count\": 99,","   \"id\": \"aa018fd9\",","   \"metadata\": {},","   \"outputs\": [],","   \"source\": [","    \"#kNN model!\\n\",","    \"from sklearn.neighbors import KNeighborsClassifier\\n\",","    \"\\n\",","    \"metric_k = []\\n\",","    \"neighbors = np.arange(3, 11)\\n\",","    \"\\n\",","    \"for k in neighbors:\\n\",","    \"    classifier = KNeighborsClassifier(n_neighbors=k)\\n\",","    \"    classifier.fit(X_train, y_train)\\n\",","    \"    y_pred = classifier.predict(X_test)\\n\",","    \"    acc = accuracy_score(y_test, y_pred)\\n\",","    \"    metric_k.append(acc)\"","   ]","  },","  {","   \"cell_type\": \"code\",","   \"execution_count\": 100,","   \"id\": \"d212f7ad\",","   \"metadata\": {},","   \"outputs\": [","    {","     \"data\": {","      \"image/png\": \"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\\n\",","      \"text/plain\": [","       \"\u003cFigure size 432x288 with 1 Axes\u003e\"","      ]","     },","     \"metadata\": {","      \"needs_background\": \"light\"","     },","     \"output_type\": \"display_data\"","    }","   ],","   \"source\": [","    \"plt.plot(neighbors,metric_k, 'o-')\\n\",","    \"plt.title('kNN Accuracy plot')\\n\",","    \"plt.xlabel('K value')\\n\",","    \"plt.ylabel('Accuracy')\\n\",","    \"plt.show()\"","   ]","  },","  {","   \"cell_type\": \"code\",","   \"execution_count\": 101,","   \"id\": \"8da87b32\",","   \"metadata\": {},","   \"outputs\": [","    {","     \"data\": {","      \"text/plain\": [","       \"0.9736842105263158\"","      ]","     },","     \"execution_count\": 101,","     \"metadata\": {},","     \"output_type\": \"execute_result\"","    }","   ],","   \"source\": [","    \"classifier = KNeighborsClassifier(n_neighbors=8)\\n\",","    \"classifier.fit(X_train, y_train)\\n\",","    \"y_pred = classifier.predict(X_test)\\n\",","    \"\\n\",","    \"accuracy_score(y_test, y_pred)\"","   ]","  },","  {","   \"cell_type\": \"code\",","   \"execution_count\": 102,","   \"id\": \"ec0a37a3\",","   \"metadata\": {","    \"scrolled\": true","   },","   \"outputs\": [","    {","     \"data\": {","      \"text/plain\": [","       \"array([[14,  1,  0],\\n\",","       \"       [ 0, 11,  0],\\n\",","       \"       [ 0,  0, 12]], dtype=int64)\"","      ]","     },","     \"execution_count\": 102,","     \"metadata\": {},","     \"output_type\": \"execute_result\"","    }","   ],","   \"source\": [","    \"confusion_matrix(y_test, y_pred)\"","   ]","  },","  {","   \"cell_type\": \"markdown\",","   \"id\": \"d657d2c1\",","   \"metadata\": {},","   \"source\": [","    \"### SVM Linear\"","   ]","  },","  {","   \"cell_type\": \"code\",","   \"execution_count\": 115,","   \"id\": \"97d2c57a\",","   \"metadata\": {},","   \"outputs\": [","    {","     \"data\": {","      \"text/plain\": [","       \"1.0\"","      ]","     },","     \"execution_count\": 115,","     \"metadata\": {},","     \"output_type\": \"execute_result\"","    }","   ],","   \"source\": [","    \"from sklearn.svm import SVC\\n\",","    \"svmclf= SVC(kernel='linear')\\n\",","    \"model = svmclf.fit(X_train, y_train)\\n\",","    \"y_pred = svmclf.predict(X_test)\\n\",","    \"accuracy_score(y_test,y_pred)\"","   ]","  },","  {","   \"cell_type\": \"code\",","   \"execution_count\": 104,","   \"id\": \"9fbc7ef4\",","   \"metadata\": {","    \"scrolled\": true","   },","   \"outputs\": [","    {","     \"data\": {","      \"text/plain\": [","       \"array([[15,  0,  0],\\n\",","       \"       [ 0, 11,  0],\\n\",","       \"       [ 0,  0, 12]], dtype=int64)\"","      ]","     },","     \"execution_count\": 104,","     \"metadata\": {},","     \"output_type\": \"execute_result\"","    }","   ],","   \"source\": [","    \"confusion_matrix(y_test, y_pred)\"","   ]","  },","  {","   \"cell_type\": \"markdown\",","   \"id\": \"3bb1d303\",","   \"metadata\": {},","   \"source\": [","    \"### SVM poly\"","   ]","  },","  {","   \"cell_type\": \"code\",","   \"execution_count\": 105,","   \"id\": \"81a8d5e0\",","   \"metadata\": {},","   \"outputs\": [","    {","     \"data\": {","      \"text/plain\": [","       \"0.9736842105263158\"","      ]","     },","     \"execution_count\": 105,","     \"metadata\": {},","     \"output_type\": \"execute_result\"","    }","   ],","   \"source\": [","    \"from sklearn.svm import SVC\\n\",","    \"svmclf= SVC(kernel='poly')\\n\",","    \"model = svmclf.fit(X_train, y_train)\\n\",","    \"y_pred = svmclf.predict(X_test)\\n\",","    \"accuracy_score(y_test,y_pred)\"","   ]","  },","  {","   \"cell_type\": \"code\",","   \"execution_count\": 106,","   \"id\": \"dc66181b\",","   \"metadata\": {},","   \"outputs\": [","    {","     \"data\": {","      \"text/plain\": [","       \"array([[15,  0,  0],\\n\",","       \"       [ 0, 10,  1],\\n\",","       \"       [ 0,  0, 12]], dtype=int64)\"","      ]","     },","     \"execution_count\": 106,","     \"metadata\": {},","     \"output_type\": \"execute_result\"","    }","   ],","   \"source\": [","    \"confusion_matrix(y_test, y_pred)\"","   ]","  },","  {","   \"cell_type\": \"markdown\",","   \"id\": \"84ffacbe\",","   \"metadata\": {},","   \"source\": [","    \"### SVM rbf\"","   ]","  },","  {","   \"cell_type\": \"code\",","   \"execution_count\": 92,","   \"id\": \"79028b4e\",","   \"metadata\": {},","   \"outputs\": [","    {","     \"data\": {","      \"text/plain\": [","       \"0.9736842105263158\"","      ]","     },","     \"execution_count\": 92,","     \"metadata\": {},","     \"output_type\": \"execute_result\"","    }","   ],","   \"source\": [","    \"from sklearn.svm import SVC\\n\",","    \"svmclf= SVC(kernel='rbf')\\n\",","    \"model = svmclf.fit(X_train, y_train)\\n\",","    \"y_pred = svmclf.predict(X_test)\\n\",","    \"accuracy_score(y_test,y_pred)\"","   ]","  },","  {","   \"cell_type\": \"code\",","   \"execution_count\": 107,","   \"id\": \"7b2ae321\",","   \"metadata\": {","    \"scrolled\": true","   },","   \"outputs\": [","    {","     \"data\": {","      \"text/plain\": [","       \"array([[15,  0,  0],\\n\",","       \"       [ 0, 10,  1],\\n\",","       \"       [ 0,  0, 12]], dtype=int64)\"","      ]","     },","     \"execution_count\": 107,","     \"metadata\": {},","     \"output_type\": \"execute_result\"","    }","   ],","   \"source\": [","    \"confusion_matrix(y_test, y_pred)\"","   ]","  },","  {","   \"cell_type\": \"markdown\",","   \"id\": \"cd66744d\",","   \"metadata\": {},","   \"source\": [","    \"### Decision Tree\"","   ]","  },","  {","   \"cell_type\": \"code\",","   \"execution_count\": 108,","   \"id\": \"bea5874d\",","   \"metadata\": {},","   \"outputs\": [","    {","     \"data\": {","      \"text/plain\": [","       \"1.0\"","      ]","     },","     \"execution_count\": 108,","     \"metadata\": {},","     \"output_type\": \"execute_result\"","    }","   ],","   \"source\": [","    \"from sklearn.tree import DecisionTreeClassifier\\n\",","    \"dt= DecisionTreeClassifier()\\n\",","    \"dt.fit(X_train, y_train)\\n\",","    \"y_pred= dt.predict(X_test)\\n\",","    \"accuracy_score(y_test, y_pred)\"","   ]","  },","  {","   \"cell_type\": \"code\",","   \"execution_count\": 109,","   \"id\": \"f3fa097b\",","   \"metadata\": {},","   \"outputs\": [","    {","     \"data\": {","      \"text/plain\": [","       \"array([[15,  0,  0],\\n\",","       \"       [ 0, 11,  0],\\n\",","       \"       [ 0,  0, 12]], dtype=int64)\"","      ]","     },","     \"execution_count\": 109,","     \"metadata\": {},","     \"output_type\": \"execute_result\"","    }","   ],","   \"source\": [","    \"confusion_matrix(y_test, y_pred)\"","   ]","  },","  {","   \"cell_type\": \"markdown\",","   \"id\": \"0fb29b15\",","   \"metadata\": {},","   \"source\": [","    \"### Random Forest\"","   ]","  },","  {","   \"cell_type\": \"code\",","   \"execution_count\": 110,","   \"id\": \"21759691\",","   \"metadata\": {},","   \"outputs\": [","    {","     \"data\": {","      \"text/plain\": [","       \"1.0\"","      ]","     },","     \"execution_count\": 110,","     \"metadata\": {},","     \"output_type\": \"execute_result\"","    }","   ],","   \"source\": [","    \"from sklearn.ensemble import RandomForestClassifier\\n\",","    \"rf= RandomForestClassifier()\\n\",","    \"rf.fit(X_train, y_train)\\n\",","    \"y_pred= rf.predict(X_test)\\n\",","    \"accuracy_score(y_test, y_pred)\"","   ]","  },","  {","   \"cell_type\": \"code\",","   \"execution_count\": 111,","   \"id\": \"7756192c\",","   \"metadata\": {","    \"scrolled\": true","   },","   \"outputs\": [","    {","     \"data\": {","      \"text/plain\": [","       \"array([[15,  0,  0],\\n\",","       \"       [ 0, 11,  0],\\n\",","       \"       [ 0,  0, 12]], dtype=int64)\"","      ]","     },","     \"execution_count\": 111,","     \"metadata\": {},","     \"output_type\": \"execute_result\"","    }","   ],","   \"source\": [","    \"confusion_matrix(y_test, y_pred)\"","   ]","  },","  {","   \"cell_type\": \"markdown\",","   \"id\": \"4e6d23f0\",","   \"metadata\": {},","   \"source\": [","    \"### Which model gives best result?\"","   ]","  },","  {","   \"cell_type\": \"code\",","   \"execution_count\": 131,","   \"id\": \"cda9aa85\",","   \"metadata\": {},","   \"outputs\": [","    {","     \"data\": {","      \"text/plain\": [","       \"0.9642857142857143\"","      ]","     },","     \"execution_count\": 131,","     \"metadata\": {},","     \"output_type\": \"execute_result\"","    }","   ],","   \"source\": [","    \"svmclf= SVC(kernel='linear')\\n\",","    \"svmclf.fit(X_train, y_train)\\n\",","    \"y_pred= svmclf.predict(X_train)\\n\",","    \"accuracy_score(y_train, y_pred)\"","   ]","  },","  {","   \"cell_type\": \"code\",","   \"execution_count\": 119,","   \"id\": \"4c8663a1\",","   \"metadata\": {},","   \"outputs\": [","    {","     \"data\": {","      \"text/plain\": [","       \"array([[35,  0,  0],\\n\",","       \"       [ 0, 37,  2],\\n\",","       \"       [ 0,  2, 36]], dtype=int64)\"","      ]","     },","     \"execution_count\": 119,","     \"metadata\": {},","     \"output_type\": \"execute_result\"","    }","   ],","   \"source\": [","    \"confusion_matrix(y_train, y_pred)\"","   ]","  },","  {","   \"cell_type\": \"code\",","   \"execution_count\": 120,","   \"id\": \"7938d6be\",","   \"metadata\": {},","   \"outputs\": [","    {","     \"data\": {","      \"text/plain\": [","       \"1.0\"","      ]","     },","     \"execution_count\": 120,","     \"metadata\": {},","     \"output_type\": \"execute_result\"","    }","   ],","   \"source\": [","    \"rf.fit(X_train, y_train)\\n\",","    \"y_pred= rf.predict(X_train)\\n\",","    \"accuracy_score(y_train, y_pred)\"","   ]","  },","  {","   \"cell_type\": \"code\",","   \"execution_count\": 121,","   \"id\": \"9a73b7b4\",","   \"metadata\": {},","   \"outputs\": [","    {","     \"data\": {","      \"text/plain\": [","       \"array([[35,  0,  0],\\n\",","       \"       [ 0, 39,  0],\\n\",","       \"       [ 0,  0, 38]], dtype=int64)\"","      ]","     },","     \"execution_count\": 121,","     \"metadata\": {},","     \"output_type\": \"execute_result\"","    }","   ],","   \"source\": [","    \"confusion_matrix(y_train, y_pred)\"","   ]","  },","  {","   \"cell_type\": \"code\",","   \"execution_count\": 125,","   \"id\": \"9729de9b\",","   \"metadata\": {},","   \"outputs\": [","    {","     \"data\": {","      \"text/plain\": [","       \"1.0\"","      ]","     },","     \"execution_count\": 125,","     \"metadata\": {},","     \"output_type\": \"execute_result\"","    }","   ],","   \"source\": [","    \"dt.fit(X_train, y_train)\\n\",","    \"y_pred= dt.predict(X_train)\\n\",","    \"accuracy_score(y_train, y_pred)\"","   ]","  },","  {","   \"cell_type\": \"code\",","   \"execution_count\": 126,","   \"id\": \"020f5ddd\",","   \"metadata\": {},","   \"outputs\": [","    {","     \"data\": {","      \"text/plain\": [","       \"array([[35,  0,  0],\\n\",","       \"       [ 0, 39,  0],\\n\",","       \"       [ 0,  0, 38]], dtype=int64)\"","      ]","     },","     \"execution_count\": 126,","     \"metadata\": {},","     \"output_type\": \"execute_result\"","    }","   ],","   \"source\": [","    \"confusion_matrix(y_train, y_pred)\"","   ]","  },","  {","   \"cell_type\": \"code\",","   \"execution_count\": 132,","   \"id\": \"3cc26580\",","   \"metadata\": {},","   \"outputs\": [","    {","     \"data\": {","      \"text/plain\": [","       \"1.0\"","      ]","     },","     \"execution_count\": 132,","     \"metadata\": {},","     \"output_type\": \"execute_result\"","    }","   ],","   \"source\": [","    \"rf.fit(X, y)\\n\",","    \"y_pred= rf.predict(X)\\n\",","    \"accuracy_score(y, y_pred)\"","   ]","  },","  {","   \"cell_type\": \"code\",","   \"execution_count\": 133,","   \"id\": \"78b4fadd\",","   \"metadata\": {},","   \"outputs\": [","    {","     \"data\": {","      \"text/plain\": [","       \"array([[50,  0,  0],\\n\",","       \"       [ 0, 50,  0],\\n\",","       \"       [ 0,  0, 50]], dtype=int64)\"","      ]","     },","     \"execution_count\": 133,","     \"metadata\": {},","     \"output_type\": \"execute_result\"","    }","   ],","   \"source\": [","    \"confusion_matrix(y, y_pred)\"","   ]","  },","  {","   \"cell_type\": \"code\",","   \"execution_count\": 135,","   \"id\": \"98cf786b\",","   \"metadata\": {},","   \"outputs\": [","    {","     \"data\": {","      \"text/plain\": [","       \"1.0\"","      ]","     },","     \"execution_count\": 135,","     \"metadata\": {},","     \"output_type\": \"execute_result\"","    }","   ],","   \"source\": [","    \"dt.fit(X, y)\\n\",","    \"y_pred= dt.predict(X)\\n\",","    \"accuracy_score(y, y_pred)\"","   ]","  },","  {","   \"cell_type\": \"code\",","   \"execution_count\": 136,","   \"id\": \"7094e04c\",","   \"metadata\": {},","   \"outputs\": [","    {","     \"data\": {","      \"text/plain\": [","       \"array([[50,  0,  0],\\n\",","       \"       [ 0, 50,  0],\\n\",","       \"       [ 0,  0, 50]], dtype=int64)\"","      ]","     },","     \"execution_count\": 136,","     \"metadata\": {},","     \"output_type\": \"execute_result\"","    }","   ],","   \"source\": [","    \"confusion_matrix(y, y_pred)\"","   ]","  },","  {","   \"cell_type\": \"code\",","   \"execution_count\": 137,","   \"id\": \"128cfe98\",","   \"metadata\": {},","   \"outputs\": [","    {","     \"data\": {","      \"text/plain\": [","       \"0.96\"","      ]","     },","     \"execution_count\": 137,","     \"metadata\": {},","     \"output_type\": \"execute_result\"","    }","   ],","   \"source\": [","    \"svmclf= SVC(kernel='linear')\\n\",","    \"svmclf.fit(X, y)\\n\",","    \"y_pred= svmclf.predict(X)\\n\",","    \"accuracy_score(y, y_pred)\"","   ]","  },","  {","   \"cell_type\": \"code\",","   \"execution_count\": 139,","   \"id\": \"26f13c26\",","   \"metadata\": {},","   \"outputs\": [","    {","     \"data\": {","      \"text/plain\": [","       \"array([[50,  0,  0],\\n\",","       \"       [ 0, 47,  3],\\n\",","       \"       [ 0,  3, 47]], dtype=int64)\"","      ]","     },","     \"execution_count\": 139,","     \"metadata\": {},","     \"output_type\": \"execute_result\"","    }","   ],","   \"source\": [","    \"confusion_matrix(y, y_pred)\"","   ]","  },","  {","   \"cell_type\": \"markdown\",","   \"id\": \"6873fd86\",","   \"metadata\": {},","   \"source\": [","    \"Out of the models which gives best results is SVM linear, decision trees\\n\",","    \"and random forest.\\n\",","    \"\\n\",","    \"Taking more number of data values, decision trees and random forest gives\\n\",","    \"best results clearly.\"","   ]","  }"," ],"," \"metadata\": {","  \"kernelspec\": {","   \"display_name\": \"Python 3 (ipykernel)\",","   \"language\": \"python\",","   \"name\": \"python3\"","  },","  \"language_info\": {","   \"codemirror_mode\": {","    \"name\": \"ipython\",","    \"version\": 3","   },","   \"file_extension\": \".py\",","   \"mimetype\": \"text/x-python\",","   \"name\": \"python\",","   \"nbconvert_exporter\": \"python\",","   \"pygments_lexer\": \"ipython3\",","   \"version\": \"3.9.7\"","  }"," },"," \"nbformat\": 4,"," \"nbformat_minor\": 5","}"],"stylingDirectives":null,"csv":null,"csvError":null,"dependabotInfo":{"showConfigurationBanner":false,"configFilePath":null,"networkDependabotPath":"/Roshni-M9296/Assignment-on-Classification/network/updates","dismissConfigurationNoticePath":"/settings/dismiss-notice/dependabot_configuration_notice","configurationNoticeDismissed":null,"repoAlertsPath":"/Roshni-M9296/Assignment-on-Classification/security/dependabot","repoSecurityAndAnalysisPath":"/Roshni-M9296/Assignment-on-Classification/settings/security_analysis","repoOwnerIsOrg":false,"currentUserCanAdminRepo":false},"displayName":"Assignment on Classification.ipynb","displayUrl":"https://notebooks.githubusercontent.com/view/ipynb?browser=chrome\u0026bypass_fastly=true\u0026color_mode=auto\u0026commit=ee17c400ce89b32f6993c7d47a5a713a067d1577\u0026device=unknown_device\u0026docs_host=https%3A%2F%2Fdocs.github.com\u0026enc_url=68747470733a2f2f7261772e67697468756275736572636f6e74656e742e636f6d2f526f73686e692d4d393239362f41737369676e6d656e742d6f6e2d436c617373696669636174696f6e2f656531376334303063653839623332663639393363376434376135613731336130363764313537372f41737369676e6d656e742532306f6e253230436c617373696669636174696f6e2e6970796e62\u0026logged_in=false\u0026nwo=Roshni-M9296%2FAssignment-on-Classification\u0026path=Assignment+on+Classification.ipynb\u0026platform=windows\u0026repository_id=668848867\u0026repository_type=Repository\u0026version=114","headerInfo":{"blobSize":"65.5 KB","deleteInfo":{"deletePath":null,"deleteTooltip":"You must be signed in to make or propose changes"},"editInfo":{"editTooltip":"You must be signed in to make or propose changes"},"ghDesktopPath":"https://desktop.github.com","gitLfsPath":null,"onBranch":true,"shortPath":"5ef6412","siteNavLoginPath":"/login?return_to=https%3A%2F%2Fgithub.com%2FRoshni-M9296%2FAssignment-on-Classification%2Fblob%2Fmain%2FAssignment%2520on%2520Classification.ipynb","isCSV":false,"isRichtext":false,"toc":null,"lineInfo":{"truncatedLoc":"1280","truncatedSloc":"1280"},"mode":"file"},"image":false,"isCodeownersFile":null,"isValidLegacyIssueTemplate":false,"issueTemplateHelpUrl":"https://docs.github.com/articles/about-issue-and-pull-request-templates","issueTemplate":null,"discussionTemplate":null,"language":"Jupyter Notebook","large":false,"loggedIn":false,"newDiscussionPath":"/Roshni-M9296/Assignment-on-Classification/discussions/new","newIssuePath":"/Roshni-M9296/Assignment-on-Classification/issues/new","planSupportInfo":{"repoIsFork":null,"repoOwnedByCurrentUser":null,"requestFullPath":"/Roshni-M9296/Assignment-on-Classification/blob/main/Assignment%20on%20Classification.ipynb","showFreeOrgGatedFeatureMessage":null,"showPlanSupportBanner":null,"upgradeDataAttributes":null,"upgradePath":null},"publishBannersInfo":{"dismissActionNoticePath":"/settings/dismiss-notice/publish_action_from_dockerfile","dismissStackNoticePath":"/settings/dismiss-notice/publish_stack_from_file","releasePath":"/Roshni-M9296/Assignment-on-Classification/releases/new?marketplace=true","showPublishActionBanner":false,"showPublishStackBanner":false},"renderImageOrRaw":false,"richText":null,"renderedFileInfo":{"identityUUID":"394c969a-8e86-473a-8d31-d41ebbc5951e","renderFileType":"ipynb","size":67107},"tabSize":8,"topBannersInfo":{"overridingGlobalFundingFile":false,"globalPreferredFundingPath":null,"repoOwner":"Roshni-M9296","repoName":"Assignment-on-Classification","showInvalidCitationWarning":false,"citationHelpUrl":"https://docs.github.com/en/github/creating-cloning-and-archiving-repositories/creating-a-repository-on-github/about-citation-files","showDependabotConfigurationBanner":false,"actionsOnboardingTip":null},"truncated":false,"viewable":true,"workflowRedirectUrl":null,"symbols":{"timedOut":false,"notAnalyzed":true,"symbols":[]}},"copilotUserAccess":null,"csrf_tokens":{"/Roshni-M9296/Assignment-on-Classification/branches":{"post":"vwAMOdCW_cXhfChpEDReZpWT1qNL99-cY4xV89x1bLmNnqkCcxGFpMgnk_0XISCREJRX69O4HvQTAywJHT_07A"}}},"title":"Assignment-on-Classification/Assignment on Classification.ipynb at main · Roshni-M9296/Assignment-on-Classification","locale":"en","appPayload":{"helpUrl":"https://docs.github.com","findFileWorkerPath":"/assets-cdn/worker/find-file-worker-848bb9a5da17.js","findInFileWorkerPath":"/assets-cdn/worker/find-in-file-worker-4b57095adfc5.js","githubDevUrl":null,"enabled_features":{"virtualize_file_tree":true,"react_repos_overview":false,"code_nav_ui_events":false,"ref_selector_v2":false,"codeview_codemirror_next_editors":false,"blob_firefox_separate_characters":true,"column_symbol_auto_select":true,"copilot_conversational_ux":false,"copilot_popover_file_editor_header":false}}}</script>
  <div data-target="react-app.reactRoot"></div>
</react-app>
</turbo-frame>



  </div>

</turbo-frame>

    </main>
  </div>

  </div>

          <footer class="footer width-full container-xl p-responsive" role="contentinfo">
  <h2 class='sr-only'>Footer</h2>

  <div class="position-relative d-flex flex-items-center pb-2 f6 color-fg-muted border-top color-border-muted flex-column-reverse flex-lg-row flex-wrap flex-lg-nowrap mt-6 pt-6">
    <div class="list-style-none d-flex flex-wrap col-0 col-lg-2 flex-justify-start flex-lg-justify-between mb-2 mb-lg-0">
      <div class="mt-2 mt-lg-0 d-flex flex-items-center">
        <a aria-label="Homepage" title="GitHub" class="footer-octicon mr-2" href="https://github.com">
          <svg aria-hidden="true" height="24" viewBox="0 0 16 16" version="1.1" width="24" data-view-component="true" class="octicon octicon-mark-github">
    <path d="M8 0c4.42 0 8 3.58 8 8a8.013 8.013 0 0 1-5.45 7.59c-.4.08-.55-.17-.55-.38 0-.27.01-1.13.01-2.2 0-.75-.25-1.23-.54-1.48 1.78-.2 3.65-.88 3.65-3.95 0-.88-.31-1.59-.82-2.15.08-.2.36-1.02-.08-2.12 0 0-.67-.22-2.2.82-.64-.18-1.32-.27-2-.27-.68 0-1.36.09-2 .27-1.53-1.03-2.2-.82-2.2-.82-.44 1.1-.16 1.92-.08 2.12-.51.56-.82 1.28-.82 2.15 0 3.06 1.86 3.75 3.64 3.95-.23.2-.44.55-.51 1.07-.46.21-1.61.55-2.33-.66-.15-.24-.6-.83-1.23-.82-.67.01-.27.38.01.53.34.19.73.9.82 1.13.16.45.68 1.31 2.69.94 0 .67.01 1.3.01 1.49 0 .21-.15.45-.55.38A7.995 7.995 0 0 1 0 8c0-4.42 3.58-8 8-8Z"></path>
</svg>
</a>        <span>
        &copy; 2023 GitHub, Inc.
        </span>
      </div>
    </div>

    <nav aria-label='Footer' class="col-12 col-lg-8">
      <h3 class='sr-only' id='sr-footer-heading'>Footer navigation</h3>
      <ul class="list-style-none d-flex flex-wrap col-12 flex-justify-center flex-lg-justify-between mb-2 mb-lg-0" aria-labelledby='sr-footer-heading'>
          <li class="mr-3 mr-lg-0"><a href="https://docs.github.com/site-policy/github-terms/github-terms-of-service" data-analytics-event="{&quot;category&quot;:&quot;Footer&quot;,&quot;action&quot;:&quot;go to terms&quot;,&quot;label&quot;:&quot;text:terms&quot;}">Terms</a></li>
          <li class="mr-3 mr-lg-0"><a href="https://docs.github.com/site-policy/privacy-policies/github-privacy-statement" data-analytics-event="{&quot;category&quot;:&quot;Footer&quot;,&quot;action&quot;:&quot;go to privacy&quot;,&quot;label&quot;:&quot;text:privacy&quot;}">Privacy</a></li>
          <li class="mr-3 mr-lg-0"><a data-analytics-event="{&quot;category&quot;:&quot;Footer&quot;,&quot;action&quot;:&quot;go to security&quot;,&quot;label&quot;:&quot;text:security&quot;}" href="https://github.com/security">Security</a></li>
          <li class="mr-3 mr-lg-0"><a href="https://www.githubstatus.com/" data-analytics-event="{&quot;category&quot;:&quot;Footer&quot;,&quot;action&quot;:&quot;go to status&quot;,&quot;label&quot;:&quot;text:status&quot;}">Status</a></li>
          <li class="mr-3 mr-lg-0"><a data-ga-click="Footer, go to help, text:Docs" href="https://docs.github.com">Docs</a></li>
          <li class="mr-3 mr-lg-0"><a href="https://support.github.com?tags=dotcom-footer" data-analytics-event="{&quot;category&quot;:&quot;Footer&quot;,&quot;action&quot;:&quot;go to contact&quot;,&quot;label&quot;:&quot;text:contact&quot;}">Contact GitHub</a></li>
          <li class="mr-3 mr-lg-0"><a href="https://github.com/pricing" data-analytics-event="{&quot;category&quot;:&quot;Footer&quot;,&quot;action&quot;:&quot;go to Pricing&quot;,&quot;label&quot;:&quot;text:Pricing&quot;}">Pricing</a></li>
        <li class="mr-3 mr-lg-0"><a href="https://docs.github.com" data-analytics-event="{&quot;category&quot;:&quot;Footer&quot;,&quot;action&quot;:&quot;go to api&quot;,&quot;label&quot;:&quot;text:api&quot;}">API</a></li>
        <li class="mr-3 mr-lg-0"><a href="https://services.github.com" data-analytics-event="{&quot;category&quot;:&quot;Footer&quot;,&quot;action&quot;:&quot;go to training&quot;,&quot;label&quot;:&quot;text:training&quot;}">Training</a></li>
          <li class="mr-3 mr-lg-0"><a href="https://github.blog" data-analytics-event="{&quot;category&quot;:&quot;Footer&quot;,&quot;action&quot;:&quot;go to blog&quot;,&quot;label&quot;:&quot;text:blog&quot;}">Blog</a></li>
          <li><a data-ga-click="Footer, go to about, text:about" href="https://github.com/about">About</a></li>
      </ul>
    </nav>
  </div>

  <div class="d-flex flex-justify-center pb-6">
    <span class="f6 color-fg-muted"></span>
  </div>
</footer>




  <div id="ajax-error-message" class="ajax-error-message flash flash-error" hidden>
    <svg aria-hidden="true" height="16" viewBox="0 0 16 16" version="1.1" width="16" data-view-component="true" class="octicon octicon-alert">
    <path d="M6.457 1.047c.659-1.234 2.427-1.234 3.086 0l6.082 11.378A1.75 1.75 0 0 1 14.082 15H1.918a1.75 1.75 0 0 1-1.543-2.575Zm1.763.707a.25.25 0 0 0-.44 0L1.698 13.132a.25.25 0 0 0 .22.368h12.164a.25.25 0 0 0 .22-.368Zm.53 3.996v2.5a.75.75 0 0 1-1.5 0v-2.5a.75.75 0 0 1 1.5 0ZM9 11a1 1 0 1 1-2 0 1 1 0 0 1 2 0Z"></path>
</svg>
    <button type="button" class="flash-close js-ajax-error-dismiss" aria-label="Dismiss error">
      <svg aria-hidden="true" height="16" viewBox="0 0 16 16" version="1.1" width="16" data-view-component="true" class="octicon octicon-x">
    <path d="M3.72 3.72a.75.75 0 0 1 1.06 0L8 6.94l3.22-3.22a.749.749 0 0 1 1.275.326.749.749 0 0 1-.215.734L9.06 8l3.22 3.22a.749.749 0 0 1-.326 1.275.749.749 0 0 1-.734-.215L8 9.06l-3.22 3.22a.751.751 0 0 1-1.042-.018.751.751 0 0 1-.018-1.042L6.94 8 3.72 4.78a.75.75 0 0 1 0-1.06Z"></path>
</svg>
    </button>
    You can’t perform that action at this time.
  </div>

    <template id="site-details-dialog">
  <details class="details-reset details-overlay details-overlay-dark lh-default color-fg-default hx_rsm" open>
    <summary role="button" aria-label="Close dialog"></summary>
    <details-dialog class="Box Box--overlay d-flex flex-column anim-fade-in fast hx_rsm-dialog hx_rsm-modal">
      <button class="Box-btn-octicon m-0 btn-octicon position-absolute right-0 top-0" type="button" aria-label="Close dialog" data-close-dialog>
        <svg aria-hidden="true" height="16" viewBox="0 0 16 16" version="1.1" width="16" data-view-component="true" class="octicon octicon-x">
    <path d="M3.72 3.72a.75.75 0 0 1 1.06 0L8 6.94l3.22-3.22a.749.749 0 0 1 1.275.326.749.749 0 0 1-.215.734L9.06 8l3.22 3.22a.749.749 0 0 1-.326 1.275.749.749 0 0 1-.734-.215L8 9.06l-3.22 3.22a.751.751 0 0 1-1.042-.018.751.751 0 0 1-.018-1.042L6.94 8 3.72 4.78a.75.75 0 0 1 0-1.06Z"></path>
</svg>
      </button>
      <div class="octocat-spinner my-6 js-details-dialog-spinner"></div>
    </details-dialog>
  </details>
</template>

    <div class="Popover js-hovercard-content position-absolute" style="display: none; outline: none;" tabindex="0">
  <div class="Popover-message Popover-message--bottom-left Popover-message--large Box color-shadow-large" style="width:360px;">
  </div>
</div>

    <template id="snippet-clipboard-copy-button">
  <div class="zeroclipboard-container position-absolute right-0 top-0">
    <clipboard-copy aria-label="Copy" class="ClipboardButton btn js-clipboard-copy m-2 p-0 tooltipped-no-delay" data-copy-feedback="Copied!" data-tooltip-direction="w">
      <svg aria-hidden="true" height="16" viewBox="0 0 16 16" version="1.1" width="16" data-view-component="true" class="octicon octicon-copy js-clipboard-copy-icon m-2">
    <path d="M0 6.75C0 5.784.784 5 1.75 5h1.5a.75.75 0 0 1 0 1.5h-1.5a.25.25 0 0 0-.25.25v7.5c0 .138.112.25.25.25h7.5a.25.25 0 0 0 .25-.25v-1.5a.75.75 0 0 1 1.5 0v1.5A1.75 1.75 0 0 1 9.25 16h-7.5A1.75 1.75 0 0 1 0 14.25Z"></path><path d="M5 1.75C5 .784 5.784 0 6.75 0h7.5C15.216 0 16 .784 16 1.75v7.5A1.75 1.75 0 0 1 14.25 11h-7.5A1.75 1.75 0 0 1 5 9.25Zm1.75-.25a.25.25 0 0 0-.25.25v7.5c0 .138.112.25.25.25h7.5a.25.25 0 0 0 .25-.25v-7.5a.25.25 0 0 0-.25-.25Z"></path>
</svg>
      <svg aria-hidden="true" height="16" viewBox="0 0 16 16" version="1.1" width="16" data-view-component="true" class="octicon octicon-check js-clipboard-check-icon color-fg-success d-none m-2">
    <path d="M13.78 4.22a.75.75 0 0 1 0 1.06l-7.25 7.25a.75.75 0 0 1-1.06 0L2.22 9.28a.751.751 0 0 1 .018-1.042.751.751 0 0 1 1.042-.018L6 10.94l6.72-6.72a.75.75 0 0 1 1.06 0Z"></path>
</svg>
    </clipboard-copy>
  </div>
</template>
<template id="snippet-clipboard-copy-button-unpositioned">
  <div class="zeroclipboard-container">
    <clipboard-copy aria-label="Copy" class="ClipboardButton btn btn-invisible js-clipboard-copy m-2 p-0 tooltipped-no-delay d-flex flex-justify-center flex-items-center" data-copy-feedback="Copied!" data-tooltip-direction="w">
      <svg aria-hidden="true" height="16" viewBox="0 0 16 16" version="1.1" width="16" data-view-component="true" class="octicon octicon-copy js-clipboard-copy-icon">
    <path d="M0 6.75C0 5.784.784 5 1.75 5h1.5a.75.75 0 0 1 0 1.5h-1.5a.25.25 0 0 0-.25.25v7.5c0 .138.112.25.25.25h7.5a.25.25 0 0 0 .25-.25v-1.5a.75.75 0 0 1 1.5 0v1.5A1.75 1.75 0 0 1 9.25 16h-7.5A1.75 1.75 0 0 1 0 14.25Z"></path><path d="M5 1.75C5 .784 5.784 0 6.75 0h7.5C15.216 0 16 .784 16 1.75v7.5A1.75 1.75 0 0 1 14.25 11h-7.5A1.75 1.75 0 0 1 5 9.25Zm1.75-.25a.25.25 0 0 0-.25.25v7.5c0 .138.112.25.25.25h7.5a.25.25 0 0 0 .25-.25v-7.5a.25.25 0 0 0-.25-.25Z"></path>
</svg>
      <svg aria-hidden="true" height="16" viewBox="0 0 16 16" version="1.1" width="16" data-view-component="true" class="octicon octicon-check js-clipboard-check-icon color-fg-success d-none">
    <path d="M13.78 4.22a.75.75 0 0 1 0 1.06l-7.25 7.25a.75.75 0 0 1-1.06 0L2.22 9.28a.751.751 0 0 1 .018-1.042.751.751 0 0 1 1.042-.018L6 10.94l6.72-6.72a.75.75 0 0 1 1.06 0Z"></path>
</svg>
    </clipboard-copy>
  </div>
</template>




    </div>

    <div id="js-global-screen-reader-notice" class="sr-only" aria-live="polite" ></div>
  </body>
</html>



